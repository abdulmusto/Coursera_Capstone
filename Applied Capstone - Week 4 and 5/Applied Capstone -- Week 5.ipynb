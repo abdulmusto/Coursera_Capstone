{
 "cells": [
  {
   "cell_type": "markdown",
   "metadata": {},
   "source": [
    "# 1: Introduction/Business Problem\n",
    "\n",
    "Coffee is one of the most popular drink all over the world. From morning routines to sweet conversations with our friends, it is almost essential to our daily life. The United States imports in excess of 4 Billion worth of coffee per year. Americans consume 400 million cups of coffee per day making tje United States the leading consumer of soffee in the world. Independent coffee shops equal $12 billion in annual sales. At the present time there are approximately 24,000 Coffee Shops across the country. This statistics shows how vital coffee is for our daily routines and how perfect business opportunity. When talking about coffee it is ineviateble to mention one company - Starbucks. Starbucks has almost 30000 stores all over the world. Opening another store is very risky and its location must be chosen wisely. In this analysis, I will find best spots in Chicago, IL to open and operate new coffee shop. This analysis is for two types of business people : \n",
    "        \n",
    "        1. Starbuck stakeholders - To find best spots for maximum profitability\n",
    "        2. Coffee businesspeople - To find best spots to escape competition with Starbucks and increase profit.\n",
    "    \n"
   ]
  },
  {
   "cell_type": "markdown",
   "metadata": {},
   "source": [
    "  "
   ]
  },
  {
   "cell_type": "markdown",
   "metadata": {},
   "source": [
    "  "
   ]
  },
  {
   "cell_type": "markdown",
   "metadata": {},
   "source": [
    "\n",
    "# 2:  Data\n",
    "  \n",
    "  \n",
    "For this problem I need 2 types of data : \n",
    "        1. Chicago Census Data.\n",
    "        2. Location data of Starbucks.\n",
    "\n",
    "First of them is Chicago Census Data, which provided in this course before and I have this data locally. This data will be used to find and classify best neighborhoods of Chicago according to many factors such as Per Capita Income. Then I will choose these best community areas and will use second data to analyse further.\n",
    "\n",
    "Secondly, to get location of Starbucks Coffee shops I will leverage Foursquare. I will use premiım calls to get Coffee shops around each neighborhood chosen in previos step, and will further analyse each place.\n",
    "\n",
    "Finally, with these datas I will determine which place is best to open a new Starbucks coffee Shop."
   ]
  },
  {
   "cell_type": "markdown",
   "metadata": {},
   "source": [
    "  "
   ]
  },
  {
   "cell_type": "markdown",
   "metadata": {},
   "source": [
    "  "
   ]
  },
  {
   "cell_type": "markdown",
   "metadata": {},
   "source": [
    "  "
   ]
  },
  {
   "cell_type": "markdown",
   "metadata": {},
   "source": [
    "# 3: Methodology and Analysis"
   ]
  },
  {
   "cell_type": "markdown",
   "metadata": {},
   "source": [
    "  "
   ]
  },
  {
   "cell_type": "markdown",
   "metadata": {},
   "source": [
    " \n",
    "To achieve what I want, some essential libraries will be imported. Also I will create my Foursquare agent.\n"
   ]
  },
  {
   "cell_type": "code",
   "execution_count": 54,
   "metadata": {},
   "outputs": [
    {
     "name": "stdout",
     "output_type": "stream",
     "text": [
      "Folium installed\n",
      "Libraries imported.\n"
     ]
    }
   ],
   "source": [
    "# Necessary Libraries to import\n",
    " \n",
    "import requests # library to handle requests\n",
    "import pandas as pd # library for data analsysis\n",
    "import numpy as np # library to handle data in a vectorized manner\n",
    "import random # library for random number generation\n",
    "\n",
    "from sklearn.impute import SimpleImputer # To fill NaN values\n",
    "from sklearn.cluster import KMeans  # For Clusterin algorithm\n",
    "from sklearn.preprocessing import StandardScaler # To normalize dataframe\n",
    "\n",
    "from geopy.geocoders import Nominatim # module to convert an address into latitude and longitude values\n",
    "\n",
    "import seaborn as sns # for plotting\n",
    "import matplotlib.pyplot as plt # for plotting\n",
    "%matplotlib inline\n",
    "    \n",
    "from pandas.io.json import json_normalize # For normalazing json\n",
    "\n",
    "import folium # plotting library\n",
    "\n",
    "print('Folium installed')\n",
    "print('Libraries imported.')"
   ]
  },
  {
   "cell_type": "code",
   "execution_count": null,
   "metadata": {},
   "outputs": [],
   "source": []
  },
  {
   "cell_type": "code",
   "execution_count": 1,
   "metadata": {},
   "outputs": [
    {
     "name": "stdout",
     "output_type": "stream",
     "text": [
      "Your credentails:\n",
      "CLIENT_ID: CIWSMG3EFE22USECQ4QFCFMIO5LRCDSO4VV3NKL1WRSUSJKM\n",
      "CLIENT_SECRET:BEJXVNTQFWFKDWJFZEYS544RRTZU0VUMF1XPYW3K4F4N5V0D\n"
     ]
    }
   ],
   "source": [
    "# Foursquare details\n",
    "\n",
    "CLIENT_ID = 'CIWSMG3EFE22USECQ4QFCFMIO5LRCDSO4VV3NKL1WRSUSJKM' # my Foursquare ID\n",
    "CLIENT_SECRET = 'BEJXVNTQFWFKDWJFZEYS544RRTZU0VUMF1XPYW3K4F4N5V0D' # my Foursquare Secret\n",
    "VERSION = '20181204'\n",
    "LIMIT = 40 # How mant places at max in one call\n",
    "radius = 1000  # Maximum radius from given coordinate\n",
    "print('Your credentails:')\n",
    "print('CLIENT_ID: ' + CLIENT_ID)\n",
    "print('CLIENT_SECRET:' + CLIENT_SECRET)"
   ]
  },
  {
   "cell_type": "markdown",
   "metadata": {},
   "source": [
    " "
   ]
  },
  {
   "cell_type": "markdown",
   "metadata": {},
   "source": [
    "  "
   ]
  },
  {
   "cell_type": "markdown",
   "metadata": {},
   "source": [
    "## 3.1 Classification of Neighborhoods"
   ]
  },
  {
   "cell_type": "markdown",
   "metadata": {},
   "source": [
    "  "
   ]
  },
  {
   "cell_type": "markdown",
   "metadata": {},
   "source": [
    "  Firstly , I will import Chicago Census Data and use it to cluster Chicago neighborhoods"
   ]
  },
  {
   "cell_type": "markdown",
   "metadata": {},
   "source": [
    " "
   ]
  },
  {
   "cell_type": "code",
   "execution_count": 6,
   "metadata": {},
   "outputs": [
    {
     "data": {
      "text/html": [
       "<div>\n",
       "<style scoped>\n",
       "    .dataframe tbody tr th:only-of-type {\n",
       "        vertical-align: middle;\n",
       "    }\n",
       "\n",
       "    .dataframe tbody tr th {\n",
       "        vertical-align: top;\n",
       "    }\n",
       "\n",
       "    .dataframe thead th {\n",
       "        text-align: right;\n",
       "    }\n",
       "</style>\n",
       "<table border=\"1\" class=\"dataframe\">\n",
       "  <thead>\n",
       "    <tr style=\"text-align: right;\">\n",
       "      <th></th>\n",
       "      <th>COMMUNITY_AREA_NAME</th>\n",
       "      <th>PERCENT OF HOUSING CROWDED</th>\n",
       "      <th>PERCENT HOUSEHOLDS BELOW POVERTY</th>\n",
       "      <th>PERCENT AGED 16+ UNEMPLOYED</th>\n",
       "      <th>PERCENT AGED 25+ WITHOUT HIGH SCHOOL DIPLOMA</th>\n",
       "      <th>PERCENT AGED UNDER 18 OR OVER 64</th>\n",
       "      <th>PER_CAPITA_INCOME</th>\n",
       "      <th>HARDSHIP_INDEX</th>\n",
       "    </tr>\n",
       "  </thead>\n",
       "  <tbody>\n",
       "    <tr>\n",
       "      <th>0</th>\n",
       "      <td>Rogers Park</td>\n",
       "      <td>7.7</td>\n",
       "      <td>23.6</td>\n",
       "      <td>8.7</td>\n",
       "      <td>18.2</td>\n",
       "      <td>27.5</td>\n",
       "      <td>23939</td>\n",
       "      <td>39.0</td>\n",
       "    </tr>\n",
       "    <tr>\n",
       "      <th>1</th>\n",
       "      <td>West Ridge</td>\n",
       "      <td>7.8</td>\n",
       "      <td>17.2</td>\n",
       "      <td>8.8</td>\n",
       "      <td>20.8</td>\n",
       "      <td>38.5</td>\n",
       "      <td>23040</td>\n",
       "      <td>46.0</td>\n",
       "    </tr>\n",
       "    <tr>\n",
       "      <th>2</th>\n",
       "      <td>Uptown</td>\n",
       "      <td>3.8</td>\n",
       "      <td>24.0</td>\n",
       "      <td>8.9</td>\n",
       "      <td>11.8</td>\n",
       "      <td>22.2</td>\n",
       "      <td>35787</td>\n",
       "      <td>20.0</td>\n",
       "    </tr>\n",
       "    <tr>\n",
       "      <th>3</th>\n",
       "      <td>Lincoln Square</td>\n",
       "      <td>3.4</td>\n",
       "      <td>10.9</td>\n",
       "      <td>8.2</td>\n",
       "      <td>13.4</td>\n",
       "      <td>25.5</td>\n",
       "      <td>37524</td>\n",
       "      <td>17.0</td>\n",
       "    </tr>\n",
       "    <tr>\n",
       "      <th>4</th>\n",
       "      <td>North Center</td>\n",
       "      <td>0.3</td>\n",
       "      <td>7.5</td>\n",
       "      <td>5.2</td>\n",
       "      <td>4.5</td>\n",
       "      <td>26.2</td>\n",
       "      <td>57123</td>\n",
       "      <td>6.0</td>\n",
       "    </tr>\n",
       "  </tbody>\n",
       "</table>\n",
       "</div>"
      ],
      "text/plain": [
       "  COMMUNITY_AREA_NAME  PERCENT OF HOUSING CROWDED  \\\n",
       "0         Rogers Park                         7.7   \n",
       "1          West Ridge                         7.8   \n",
       "2              Uptown                         3.8   \n",
       "3      Lincoln Square                         3.4   \n",
       "4        North Center                         0.3   \n",
       "\n",
       "   PERCENT HOUSEHOLDS BELOW POVERTY  PERCENT AGED 16+ UNEMPLOYED  \\\n",
       "0                              23.6                          8.7   \n",
       "1                              17.2                          8.8   \n",
       "2                              24.0                          8.9   \n",
       "3                              10.9                          8.2   \n",
       "4                               7.5                          5.2   \n",
       "\n",
       "   PERCENT AGED 25+ WITHOUT HIGH SCHOOL DIPLOMA  \\\n",
       "0                                          18.2   \n",
       "1                                          20.8   \n",
       "2                                          11.8   \n",
       "3                                          13.4   \n",
       "4                                           4.5   \n",
       "\n",
       "   PERCENT AGED UNDER 18 OR OVER 64  PER_CAPITA_INCOME   HARDSHIP_INDEX  \n",
       "0                              27.5               23939            39.0  \n",
       "1                              38.5               23040            46.0  \n",
       "2                              22.2               35787            20.0  \n",
       "3                              25.5               37524            17.0  \n",
       "4                              26.2               57123             6.0  "
      ]
     },
     "execution_count": 6,
     "metadata": {},
     "output_type": "execute_result"
    }
   ],
   "source": [
    "\n",
    "census_data = pd.read_csv(\"Chicago_Census_Data.csv\")\n",
    "\n",
    "# It is redundant information and I will drop that\n",
    "census_data.drop(\"COMMUNITY_AREA_NUMBER\",axis = 1,inplace = True)\n",
    "\n",
    "census_data.head()"
   ]
  },
  {
   "cell_type": "markdown",
   "metadata": {},
   "source": [
    "  "
   ]
  },
  {
   "cell_type": "markdown",
   "metadata": {},
   "source": [
    "In order to classify our neighborhoods, we only need numeric data. So let's create a new dataframe with only numeric datas of census_data. \n",
    "Then I will check if there is any nan value. If so, with using Simple Imputer I will fill them"
   ]
  },
  {
   "cell_type": "markdown",
   "metadata": {},
   "source": [
    " "
   ]
  },
  {
   "cell_type": "code",
   "execution_count": 7,
   "metadata": {
    "scrolled": true
   },
   "outputs": [
    {
     "data": {
      "text/plain": [
       "PERCENT OF HOUSING CROWDED                      False\n",
       "PERCENT HOUSEHOLDS BELOW POVERTY                False\n",
       "PERCENT AGED 16+ UNEMPLOYED                     False\n",
       "PERCENT AGED 25+ WITHOUT HIGH SCHOOL DIPLOMA    False\n",
       "PERCENT AGED UNDER 18 OR OVER 64                False\n",
       "PER_CAPITA_INCOME                               False\n",
       "HARDSHIP_INDEX                                   True\n",
       "dtype: bool"
      ]
     },
     "execution_count": 7,
     "metadata": {},
     "output_type": "execute_result"
    }
   ],
   "source": [
    "X = census_data.drop(\"COMMUNITY_AREA_NAME\",axis = 1)\n",
    "X.isnull().any()"
   ]
  },
  {
   "cell_type": "markdown",
   "metadata": {},
   "source": [
    "  "
   ]
  },
  {
   "cell_type": "markdown",
   "metadata": {},
   "source": [
    " "
   ]
  },
  {
   "cell_type": "code",
   "execution_count": 8,
   "metadata": {},
   "outputs": [
    {
     "data": {
      "text/plain": [
       "PERCENT OF HOUSING CROWDED                      False\n",
       "PERCENT HOUSEHOLDS BELOW POVERTY                False\n",
       "PERCENT AGED 16+ UNEMPLOYED                     False\n",
       "PERCENT AGED 25+ WITHOUT HIGH SCHOOL DIPLOMA    False\n",
       "PERCENT AGED UNDER 18 OR OVER 64                False\n",
       "PER_CAPITA_INCOME                               False\n",
       "HARDSHIP_INDEX                                  False\n",
       "dtype: bool"
      ]
     },
     "execution_count": 8,
     "metadata": {},
     "output_type": "execute_result"
    }
   ],
   "source": [
    "# Defining Imputer instance\n",
    "myimputer = SimpleImputer(strategy = \"mean\")\n",
    "\n",
    "# Filling missing vales and creating same dataframe with same column names\n",
    "X = pd.DataFrame(myimputer.fit_transform(X),columns = X.columns)\n",
    "\n",
    "X.isnull().any()"
   ]
  },
  {
   "cell_type": "markdown",
   "metadata": {},
   "source": [
    "  "
   ]
  },
  {
   "cell_type": "markdown",
   "metadata": {},
   "source": [
    "Now, since I will use K means clustering algorith to cluster neighborhoods, it is absolutely essential to normalize our data. I will use Standart Scaler to do this"
   ]
  },
  {
   "cell_type": "code",
   "execution_count": 9,
   "metadata": {},
   "outputs": [
    {
     "data": {
      "text/html": [
       "<div>\n",
       "<style scoped>\n",
       "    .dataframe tbody tr th:only-of-type {\n",
       "        vertical-align: middle;\n",
       "    }\n",
       "\n",
       "    .dataframe tbody tr th {\n",
       "        vertical-align: top;\n",
       "    }\n",
       "\n",
       "    .dataframe thead th {\n",
       "        text-align: right;\n",
       "    }\n",
       "</style>\n",
       "<table border=\"1\" class=\"dataframe\">\n",
       "  <thead>\n",
       "    <tr style=\"text-align: right;\">\n",
       "      <th></th>\n",
       "      <th>PERCENT OF HOUSING CROWDED</th>\n",
       "      <th>PERCENT HOUSEHOLDS BELOW POVERTY</th>\n",
       "      <th>PERCENT AGED 16+ UNEMPLOYED</th>\n",
       "      <th>PERCENT AGED 25+ WITHOUT HIGH SCHOOL DIPLOMA</th>\n",
       "      <th>PERCENT AGED UNDER 18 OR OVER 64</th>\n",
       "      <th>PER_CAPITA_INCOME</th>\n",
       "      <th>HARDSHIP_INDEX</th>\n",
       "    </tr>\n",
       "  </thead>\n",
       "  <tbody>\n",
       "    <tr>\n",
       "      <th>0</th>\n",
       "      <td>0.764551</td>\n",
       "      <td>0.163416</td>\n",
       "      <td>-0.891261</td>\n",
       "      <td>-0.182570</td>\n",
       "      <td>-1.135456</td>\n",
       "      <td>-0.109811</td>\n",
       "      <td>-0.370988</td>\n",
       "    </tr>\n",
       "    <tr>\n",
       "      <th>1</th>\n",
       "      <td>0.792058</td>\n",
       "      <td>-0.398799</td>\n",
       "      <td>-0.877841</td>\n",
       "      <td>0.040205</td>\n",
       "      <td>0.384390</td>\n",
       "      <td>-0.169353</td>\n",
       "      <td>-0.123815</td>\n",
       "    </tr>\n",
       "    <tr>\n",
       "      <th>2</th>\n",
       "      <td>-0.308218</td>\n",
       "      <td>0.198555</td>\n",
       "      <td>-0.864420</td>\n",
       "      <td>-0.730939</td>\n",
       "      <td>-1.867745</td>\n",
       "      <td>0.674894</td>\n",
       "      <td>-1.041883</td>\n",
       "    </tr>\n",
       "    <tr>\n",
       "      <th>3</th>\n",
       "      <td>-0.418246</td>\n",
       "      <td>-0.952229</td>\n",
       "      <td>-0.958364</td>\n",
       "      <td>-0.593847</td>\n",
       "      <td>-1.411792</td>\n",
       "      <td>0.789937</td>\n",
       "      <td>-1.147814</td>\n",
       "    </tr>\n",
       "    <tr>\n",
       "      <th>4</th>\n",
       "      <td>-1.270960</td>\n",
       "      <td>-1.250905</td>\n",
       "      <td>-1.360980</td>\n",
       "      <td>-1.356422</td>\n",
       "      <td>-1.315074</td>\n",
       "      <td>2.087997</td>\n",
       "      <td>-1.536228</td>\n",
       "    </tr>\n",
       "  </tbody>\n",
       "</table>\n",
       "</div>"
      ],
      "text/plain": [
       "   PERCENT OF HOUSING CROWDED  PERCENT HOUSEHOLDS BELOW POVERTY  \\\n",
       "0                    0.764551                          0.163416   \n",
       "1                    0.792058                         -0.398799   \n",
       "2                   -0.308218                          0.198555   \n",
       "3                   -0.418246                         -0.952229   \n",
       "4                   -1.270960                         -1.250905   \n",
       "\n",
       "   PERCENT AGED 16+ UNEMPLOYED  PERCENT AGED 25+ WITHOUT HIGH SCHOOL DIPLOMA  \\\n",
       "0                    -0.891261                                     -0.182570   \n",
       "1                    -0.877841                                      0.040205   \n",
       "2                    -0.864420                                     -0.730939   \n",
       "3                    -0.958364                                     -0.593847   \n",
       "4                    -1.360980                                     -1.356422   \n",
       "\n",
       "   PERCENT AGED UNDER 18 OR OVER 64  PER_CAPITA_INCOME   HARDSHIP_INDEX  \n",
       "0                         -1.135456           -0.109811       -0.370988  \n",
       "1                          0.384390           -0.169353       -0.123815  \n",
       "2                         -1.867745            0.674894       -1.041883  \n",
       "3                         -1.411792            0.789937       -1.147814  \n",
       "4                         -1.315074            2.087997       -1.536228  "
      ]
     },
     "execution_count": 9,
     "metadata": {},
     "output_type": "execute_result"
    }
   ],
   "source": [
    "# Normalazing our data and retaining same columns names in same dataframe\n",
    "X = pd.DataFrame(StandardScaler().fit_transform(X),columns = X.columns)\n",
    "\n",
    "X.head()"
   ]
  },
  {
   "cell_type": "markdown",
   "metadata": {},
   "source": [
    "  "
   ]
  },
  {
   "cell_type": "markdown",
   "metadata": {},
   "source": [
    "Now lets cluster our neighborhoods with KMeans algorithm"
   ]
  },
  {
   "cell_type": "code",
   "execution_count": 41,
   "metadata": {},
   "outputs": [
    {
     "data": {
      "text/html": [
       "<div>\n",
       "<style scoped>\n",
       "    .dataframe tbody tr th:only-of-type {\n",
       "        vertical-align: middle;\n",
       "    }\n",
       "\n",
       "    .dataframe tbody tr th {\n",
       "        vertical-align: top;\n",
       "    }\n",
       "\n",
       "    .dataframe thead th {\n",
       "        text-align: right;\n",
       "    }\n",
       "</style>\n",
       "<table border=\"1\" class=\"dataframe\">\n",
       "  <thead>\n",
       "    <tr style=\"text-align: right;\">\n",
       "      <th></th>\n",
       "      <th>label</th>\n",
       "    </tr>\n",
       "  </thead>\n",
       "  <tbody>\n",
       "    <tr>\n",
       "      <th>0</th>\n",
       "      <td>2</td>\n",
       "    </tr>\n",
       "    <tr>\n",
       "      <th>1</th>\n",
       "      <td>2</td>\n",
       "    </tr>\n",
       "    <tr>\n",
       "      <th>2</th>\n",
       "      <td>5</td>\n",
       "    </tr>\n",
       "    <tr>\n",
       "      <th>3</th>\n",
       "      <td>5</td>\n",
       "    </tr>\n",
       "    <tr>\n",
       "      <th>4</th>\n",
       "      <td>3</td>\n",
       "    </tr>\n",
       "  </tbody>\n",
       "</table>\n",
       "</div>"
      ],
      "text/plain": [
       "   label\n",
       "0      2\n",
       "1      2\n",
       "2      5\n",
       "3      5\n",
       "4      3"
      ]
     },
     "execution_count": 41,
     "metadata": {},
     "output_type": "execute_result"
    }
   ],
   "source": [
    "# defining my model with 8 clusters\n",
    "mymodel = KMeans(n_clusters = 8)\n",
    "\n",
    "# Fitting my model to X\n",
    "mymodel.fit(X)\n",
    "\n",
    "# Creating label dataframe with labels of our model\n",
    "labels = pd.DataFrame(mymodel.labels_,columns = [\"label\"])\n",
    "\n",
    "labels.head()"
   ]
  },
  {
   "cell_type": "markdown",
   "metadata": {},
   "source": [
    "  "
   ]
  },
  {
   "cell_type": "markdown",
   "metadata": {},
   "source": [
    "Now, since we found label of each neighborhoods, lets add these label dataframe to our original dataframe. Then we will find best cluster in our dataframe and will continue with these neighborhoods "
   ]
  },
  {
   "cell_type": "code",
   "execution_count": 42,
   "metadata": {},
   "outputs": [
    {
     "data": {
      "text/html": [
       "<div>\n",
       "<style scoped>\n",
       "    .dataframe tbody tr th:only-of-type {\n",
       "        vertical-align: middle;\n",
       "    }\n",
       "\n",
       "    .dataframe tbody tr th {\n",
       "        vertical-align: top;\n",
       "    }\n",
       "\n",
       "    .dataframe thead th {\n",
       "        text-align: right;\n",
       "    }\n",
       "</style>\n",
       "<table border=\"1\" class=\"dataframe\">\n",
       "  <thead>\n",
       "    <tr style=\"text-align: right;\">\n",
       "      <th></th>\n",
       "      <th>PERCENT OF HOUSING CROWDED</th>\n",
       "      <th>PERCENT HOUSEHOLDS BELOW POVERTY</th>\n",
       "      <th>PERCENT AGED 16+ UNEMPLOYED</th>\n",
       "      <th>PERCENT AGED 25+ WITHOUT HIGH SCHOOL DIPLOMA</th>\n",
       "      <th>PERCENT AGED UNDER 18 OR OVER 64</th>\n",
       "      <th>PER_CAPITA_INCOME</th>\n",
       "      <th>HARDSHIP_INDEX</th>\n",
       "    </tr>\n",
       "    <tr>\n",
       "      <th>LABEL</th>\n",
       "      <th></th>\n",
       "      <th></th>\n",
       "      <th></th>\n",
       "      <th></th>\n",
       "      <th></th>\n",
       "      <th></th>\n",
       "      <th></th>\n",
       "    </tr>\n",
       "  </thead>\n",
       "  <tbody>\n",
       "    <tr>\n",
       "      <th>0</th>\n",
       "      <td>1.763636</td>\n",
       "      <td>8.854545</td>\n",
       "      <td>11.172727</td>\n",
       "      <td>10.581818</td>\n",
       "      <td>38.500000</td>\n",
       "      <td>33006.000000</td>\n",
       "      <td>22.545455</td>\n",
       "    </tr>\n",
       "    <tr>\n",
       "      <th>1</th>\n",
       "      <td>3.331250</td>\n",
       "      <td>26.731250</td>\n",
       "      <td>21.425000</td>\n",
       "      <td>17.268750</td>\n",
       "      <td>39.387500</td>\n",
       "      <td>18501.875000</td>\n",
       "      <td>60.187500</td>\n",
       "    </tr>\n",
       "    <tr>\n",
       "      <th>2</th>\n",
       "      <td>5.466667</td>\n",
       "      <td>15.500000</td>\n",
       "      <td>10.908333</td>\n",
       "      <td>19.841667</td>\n",
       "      <td>34.866667</td>\n",
       "      <td>24210.833333</td>\n",
       "      <td>39.181818</td>\n",
       "    </tr>\n",
       "    <tr>\n",
       "      <th>3</th>\n",
       "      <td>1.150000</td>\n",
       "      <td>12.100000</td>\n",
       "      <td>5.433333</td>\n",
       "      <td>3.950000</td>\n",
       "      <td>20.433333</td>\n",
       "      <td>67000.666667</td>\n",
       "      <td>4.000000</td>\n",
       "    </tr>\n",
       "    <tr>\n",
       "      <th>4</th>\n",
       "      <td>14.420000</td>\n",
       "      <td>28.120000</td>\n",
       "      <td>17.640000</td>\n",
       "      <td>45.660000</td>\n",
       "      <td>37.760000</td>\n",
       "      <td>12441.600000</td>\n",
       "      <td>89.800000</td>\n",
       "    </tr>\n",
       "    <tr>\n",
       "      <th>5</th>\n",
       "      <td>3.212500</td>\n",
       "      <td>17.375000</td>\n",
       "      <td>8.412500</td>\n",
       "      <td>10.925000</td>\n",
       "      <td>24.762500</td>\n",
       "      <td>36421.875000</td>\n",
       "      <td>17.750000</td>\n",
       "    </tr>\n",
       "    <tr>\n",
       "      <th>6</th>\n",
       "      <td>5.520000</td>\n",
       "      <td>43.780000</td>\n",
       "      <td>27.300000</td>\n",
       "      <td>26.060000</td>\n",
       "      <td>43.060000</td>\n",
       "      <td>12695.200000</td>\n",
       "      <td>88.800000</td>\n",
       "    </tr>\n",
       "    <tr>\n",
       "      <th>7</th>\n",
       "      <td>8.560000</td>\n",
       "      <td>19.460000</td>\n",
       "      <td>13.890000</td>\n",
       "      <td>35.500000</td>\n",
       "      <td>37.380000</td>\n",
       "      <td>16440.100000</td>\n",
       "      <td>66.700000</td>\n",
       "    </tr>\n",
       "  </tbody>\n",
       "</table>\n",
       "</div>"
      ],
      "text/plain": [
       "       PERCENT OF HOUSING CROWDED  PERCENT HOUSEHOLDS BELOW POVERTY  \\\n",
       "LABEL                                                                 \n",
       "0                        1.763636                          8.854545   \n",
       "1                        3.331250                         26.731250   \n",
       "2                        5.466667                         15.500000   \n",
       "3                        1.150000                         12.100000   \n",
       "4                       14.420000                         28.120000   \n",
       "5                        3.212500                         17.375000   \n",
       "6                        5.520000                         43.780000   \n",
       "7                        8.560000                         19.460000   \n",
       "\n",
       "       PERCENT AGED 16+ UNEMPLOYED  \\\n",
       "LABEL                                \n",
       "0                        11.172727   \n",
       "1                        21.425000   \n",
       "2                        10.908333   \n",
       "3                         5.433333   \n",
       "4                        17.640000   \n",
       "5                         8.412500   \n",
       "6                        27.300000   \n",
       "7                        13.890000   \n",
       "\n",
       "       PERCENT AGED 25+ WITHOUT HIGH SCHOOL DIPLOMA  \\\n",
       "LABEL                                                 \n",
       "0                                         10.581818   \n",
       "1                                         17.268750   \n",
       "2                                         19.841667   \n",
       "3                                          3.950000   \n",
       "4                                         45.660000   \n",
       "5                                         10.925000   \n",
       "6                                         26.060000   \n",
       "7                                         35.500000   \n",
       "\n",
       "       PERCENT AGED UNDER 18 OR OVER 64  PER_CAPITA_INCOME   HARDSHIP_INDEX  \n",
       "LABEL                                                                        \n",
       "0                             38.500000        33006.000000       22.545455  \n",
       "1                             39.387500        18501.875000       60.187500  \n",
       "2                             34.866667        24210.833333       39.181818  \n",
       "3                             20.433333        67000.666667        4.000000  \n",
       "4                             37.760000        12441.600000       89.800000  \n",
       "5                             24.762500        36421.875000       17.750000  \n",
       "6                             43.060000        12695.200000       88.800000  \n",
       "7                             37.380000        16440.100000       66.700000  "
      ]
     },
     "execution_count": 42,
     "metadata": {},
     "output_type": "execute_result"
    }
   ],
   "source": [
    "# Creating new column with label values\n",
    "census_data[\"LABEL\"] = labels.values\n",
    "\n",
    "# Grouping data by labels\n",
    "census_data.groupby(\"LABEL\").mean()"
   ]
  },
  {
   "cell_type": "markdown",
   "metadata": {},
   "source": [
    "We observe that 3rd cluster is by far best cluster in terms of Per Capita Income, Hardship Index and so on. So I will consider only these neighborhoods in 3rd cluster to analyze further\n",
    "\n",
    "_Best Cluster = 3rd Cluster_\n",
    "\n",
    "Now lets check how many neighborhoods are there in each cluster."
   ]
  },
  {
   "cell_type": "markdown",
   "metadata": {},
   "source": [
    "  "
   ]
  },
  {
   "cell_type": "code",
   "execution_count": 43,
   "metadata": {},
   "outputs": [
    {
     "data": {
      "text/html": [
       "<div>\n",
       "<style scoped>\n",
       "    .dataframe tbody tr th:only-of-type {\n",
       "        vertical-align: middle;\n",
       "    }\n",
       "\n",
       "    .dataframe tbody tr th {\n",
       "        vertical-align: top;\n",
       "    }\n",
       "\n",
       "    .dataframe thead th {\n",
       "        text-align: right;\n",
       "    }\n",
       "</style>\n",
       "<table border=\"1\" class=\"dataframe\">\n",
       "  <thead>\n",
       "    <tr style=\"text-align: right;\">\n",
       "      <th></th>\n",
       "      <th>COMMUNITY_AREA_NAME</th>\n",
       "      <th>PERCENT OF HOUSING CROWDED</th>\n",
       "      <th>PERCENT HOUSEHOLDS BELOW POVERTY</th>\n",
       "      <th>PERCENT AGED 16+ UNEMPLOYED</th>\n",
       "      <th>PERCENT AGED 25+ WITHOUT HIGH SCHOOL DIPLOMA</th>\n",
       "      <th>PERCENT AGED UNDER 18 OR OVER 64</th>\n",
       "      <th>PER_CAPITA_INCOME</th>\n",
       "      <th>HARDSHIP_INDEX</th>\n",
       "    </tr>\n",
       "    <tr>\n",
       "      <th>LABEL</th>\n",
       "      <th></th>\n",
       "      <th></th>\n",
       "      <th></th>\n",
       "      <th></th>\n",
       "      <th></th>\n",
       "      <th></th>\n",
       "      <th></th>\n",
       "      <th></th>\n",
       "    </tr>\n",
       "  </thead>\n",
       "  <tbody>\n",
       "    <tr>\n",
       "      <th>0</th>\n",
       "      <td>11</td>\n",
       "      <td>11</td>\n",
       "      <td>11</td>\n",
       "      <td>11</td>\n",
       "      <td>11</td>\n",
       "      <td>11</td>\n",
       "      <td>11</td>\n",
       "      <td>11</td>\n",
       "    </tr>\n",
       "    <tr>\n",
       "      <th>1</th>\n",
       "      <td>16</td>\n",
       "      <td>16</td>\n",
       "      <td>16</td>\n",
       "      <td>16</td>\n",
       "      <td>16</td>\n",
       "      <td>16</td>\n",
       "      <td>16</td>\n",
       "      <td>16</td>\n",
       "    </tr>\n",
       "    <tr>\n",
       "      <th>2</th>\n",
       "      <td>12</td>\n",
       "      <td>12</td>\n",
       "      <td>12</td>\n",
       "      <td>12</td>\n",
       "      <td>12</td>\n",
       "      <td>12</td>\n",
       "      <td>12</td>\n",
       "      <td>11</td>\n",
       "    </tr>\n",
       "    <tr>\n",
       "      <th>3</th>\n",
       "      <td>6</td>\n",
       "      <td>6</td>\n",
       "      <td>6</td>\n",
       "      <td>6</td>\n",
       "      <td>6</td>\n",
       "      <td>6</td>\n",
       "      <td>6</td>\n",
       "      <td>6</td>\n",
       "    </tr>\n",
       "    <tr>\n",
       "      <th>4</th>\n",
       "      <td>5</td>\n",
       "      <td>5</td>\n",
       "      <td>5</td>\n",
       "      <td>5</td>\n",
       "      <td>5</td>\n",
       "      <td>5</td>\n",
       "      <td>5</td>\n",
       "      <td>5</td>\n",
       "    </tr>\n",
       "    <tr>\n",
       "      <th>5</th>\n",
       "      <td>8</td>\n",
       "      <td>8</td>\n",
       "      <td>8</td>\n",
       "      <td>8</td>\n",
       "      <td>8</td>\n",
       "      <td>8</td>\n",
       "      <td>8</td>\n",
       "      <td>8</td>\n",
       "    </tr>\n",
       "    <tr>\n",
       "      <th>6</th>\n",
       "      <td>10</td>\n",
       "      <td>10</td>\n",
       "      <td>10</td>\n",
       "      <td>10</td>\n",
       "      <td>10</td>\n",
       "      <td>10</td>\n",
       "      <td>10</td>\n",
       "      <td>10</td>\n",
       "    </tr>\n",
       "    <tr>\n",
       "      <th>7</th>\n",
       "      <td>10</td>\n",
       "      <td>10</td>\n",
       "      <td>10</td>\n",
       "      <td>10</td>\n",
       "      <td>10</td>\n",
       "      <td>10</td>\n",
       "      <td>10</td>\n",
       "      <td>10</td>\n",
       "    </tr>\n",
       "  </tbody>\n",
       "</table>\n",
       "</div>"
      ],
      "text/plain": [
       "       COMMUNITY_AREA_NAME  PERCENT OF HOUSING CROWDED  \\\n",
       "LABEL                                                    \n",
       "0                       11                          11   \n",
       "1                       16                          16   \n",
       "2                       12                          12   \n",
       "3                        6                           6   \n",
       "4                        5                           5   \n",
       "5                        8                           8   \n",
       "6                       10                          10   \n",
       "7                       10                          10   \n",
       "\n",
       "       PERCENT HOUSEHOLDS BELOW POVERTY  PERCENT AGED 16+ UNEMPLOYED  \\\n",
       "LABEL                                                                  \n",
       "0                                    11                           11   \n",
       "1                                    16                           16   \n",
       "2                                    12                           12   \n",
       "3                                     6                            6   \n",
       "4                                     5                            5   \n",
       "5                                     8                            8   \n",
       "6                                    10                           10   \n",
       "7                                    10                           10   \n",
       "\n",
       "       PERCENT AGED 25+ WITHOUT HIGH SCHOOL DIPLOMA  \\\n",
       "LABEL                                                 \n",
       "0                                                11   \n",
       "1                                                16   \n",
       "2                                                12   \n",
       "3                                                 6   \n",
       "4                                                 5   \n",
       "5                                                 8   \n",
       "6                                                10   \n",
       "7                                                10   \n",
       "\n",
       "       PERCENT AGED UNDER 18 OR OVER 64  PER_CAPITA_INCOME   HARDSHIP_INDEX  \n",
       "LABEL                                                                        \n",
       "0                                    11                  11              11  \n",
       "1                                    16                  16              16  \n",
       "2                                    12                  12              11  \n",
       "3                                     6                   6               6  \n",
       "4                                     5                   5               5  \n",
       "5                                     8                   8               8  \n",
       "6                                    10                  10              10  \n",
       "7                                    10                  10              10  "
      ]
     },
     "execution_count": 43,
     "metadata": {},
     "output_type": "execute_result"
    }
   ],
   "source": [
    "# Grouping by count\n",
    "census_data.groupby(\"LABEL\").count()"
   ]
  },
  {
   "cell_type": "markdown",
   "metadata": {},
   "source": [
    " "
   ]
  },
  {
   "cell_type": "code",
   "execution_count": 45,
   "metadata": {},
   "outputs": [],
   "source": [
    "# Now lets choose 3rd cluster, create a new dataframe and sorth values in descending order by Income\n",
    "final_data = census_data[census_data.LABEL == 3].sort_values(by = \"PER_CAPITA_INCOME \",ascending = False)\n"
   ]
  },
  {
   "cell_type": "markdown",
   "metadata": {},
   "source": [
    "  "
   ]
  },
  {
   "cell_type": "markdown",
   "metadata": {},
   "source": [
    "In order to get location of each neighborhoods without any error, I will add Chicago to each neighborhood. This is because ther can be more than 1 place with same neighborhood name"
   ]
  },
  {
   "cell_type": "code",
   "execution_count": 46,
   "metadata": {},
   "outputs": [
    {
     "data": {
      "text/html": [
       "<div>\n",
       "<style scoped>\n",
       "    .dataframe tbody tr th:only-of-type {\n",
       "        vertical-align: middle;\n",
       "    }\n",
       "\n",
       "    .dataframe tbody tr th {\n",
       "        vertical-align: top;\n",
       "    }\n",
       "\n",
       "    .dataframe thead th {\n",
       "        text-align: right;\n",
       "    }\n",
       "</style>\n",
       "<table border=\"1\" class=\"dataframe\">\n",
       "  <thead>\n",
       "    <tr style=\"text-align: right;\">\n",
       "      <th></th>\n",
       "      <th>COMMUNITY_AREA_NAME</th>\n",
       "      <th>PERCENT OF HOUSING CROWDED</th>\n",
       "      <th>PERCENT HOUSEHOLDS BELOW POVERTY</th>\n",
       "      <th>PERCENT AGED 16+ UNEMPLOYED</th>\n",
       "      <th>PERCENT AGED 25+ WITHOUT HIGH SCHOOL DIPLOMA</th>\n",
       "      <th>PERCENT AGED UNDER 18 OR OVER 64</th>\n",
       "      <th>PER_CAPITA_INCOME</th>\n",
       "      <th>HARDSHIP_INDEX</th>\n",
       "      <th>LABEL</th>\n",
       "    </tr>\n",
       "  </thead>\n",
       "  <tbody>\n",
       "    <tr>\n",
       "      <th>0</th>\n",
       "      <td>Near North Side, Chicago</td>\n",
       "      <td>1.9</td>\n",
       "      <td>12.9</td>\n",
       "      <td>7.0</td>\n",
       "      <td>2.5</td>\n",
       "      <td>22.6</td>\n",
       "      <td>88669</td>\n",
       "      <td>1.0</td>\n",
       "      <td>3</td>\n",
       "    </tr>\n",
       "    <tr>\n",
       "      <th>1</th>\n",
       "      <td>Lincoln Park, Chicago</td>\n",
       "      <td>0.8</td>\n",
       "      <td>12.3</td>\n",
       "      <td>5.1</td>\n",
       "      <td>3.6</td>\n",
       "      <td>21.5</td>\n",
       "      <td>71551</td>\n",
       "      <td>2.0</td>\n",
       "      <td>3</td>\n",
       "    </tr>\n",
       "    <tr>\n",
       "      <th>2</th>\n",
       "      <td>Loop, Chicago</td>\n",
       "      <td>1.5</td>\n",
       "      <td>14.7</td>\n",
       "      <td>5.7</td>\n",
       "      <td>3.1</td>\n",
       "      <td>13.5</td>\n",
       "      <td>65526</td>\n",
       "      <td>3.0</td>\n",
       "      <td>3</td>\n",
       "    </tr>\n",
       "    <tr>\n",
       "      <th>3</th>\n",
       "      <td>Lake View, Chicago</td>\n",
       "      <td>1.1</td>\n",
       "      <td>11.4</td>\n",
       "      <td>4.7</td>\n",
       "      <td>2.6</td>\n",
       "      <td>17.0</td>\n",
       "      <td>60058</td>\n",
       "      <td>5.0</td>\n",
       "      <td>3</td>\n",
       "    </tr>\n",
       "    <tr>\n",
       "      <th>4</th>\n",
       "      <td>Near South Side, Chicago</td>\n",
       "      <td>1.3</td>\n",
       "      <td>13.8</td>\n",
       "      <td>4.9</td>\n",
       "      <td>7.4</td>\n",
       "      <td>21.8</td>\n",
       "      <td>59077</td>\n",
       "      <td>7.0</td>\n",
       "      <td>3</td>\n",
       "    </tr>\n",
       "    <tr>\n",
       "      <th>5</th>\n",
       "      <td>North Center, Chicago</td>\n",
       "      <td>0.3</td>\n",
       "      <td>7.5</td>\n",
       "      <td>5.2</td>\n",
       "      <td>4.5</td>\n",
       "      <td>26.2</td>\n",
       "      <td>57123</td>\n",
       "      <td>6.0</td>\n",
       "      <td>3</td>\n",
       "    </tr>\n",
       "  </tbody>\n",
       "</table>\n",
       "</div>"
      ],
      "text/plain": [
       "        COMMUNITY_AREA_NAME  PERCENT OF HOUSING CROWDED  \\\n",
       "0  Near North Side, Chicago                         1.9   \n",
       "1     Lincoln Park, Chicago                         0.8   \n",
       "2             Loop, Chicago                         1.5   \n",
       "3        Lake View, Chicago                         1.1   \n",
       "4  Near South Side, Chicago                         1.3   \n",
       "5     North Center, Chicago                         0.3   \n",
       "\n",
       "   PERCENT HOUSEHOLDS BELOW POVERTY  PERCENT AGED 16+ UNEMPLOYED  \\\n",
       "0                              12.9                          7.0   \n",
       "1                              12.3                          5.1   \n",
       "2                              14.7                          5.7   \n",
       "3                              11.4                          4.7   \n",
       "4                              13.8                          4.9   \n",
       "5                               7.5                          5.2   \n",
       "\n",
       "   PERCENT AGED 25+ WITHOUT HIGH SCHOOL DIPLOMA  \\\n",
       "0                                           2.5   \n",
       "1                                           3.6   \n",
       "2                                           3.1   \n",
       "3                                           2.6   \n",
       "4                                           7.4   \n",
       "5                                           4.5   \n",
       "\n",
       "   PERCENT AGED UNDER 18 OR OVER 64  PER_CAPITA_INCOME   HARDSHIP_INDEX  LABEL  \n",
       "0                              22.6               88669             1.0      3  \n",
       "1                              21.5               71551             2.0      3  \n",
       "2                              13.5               65526             3.0      3  \n",
       "3                              17.0               60058             5.0      3  \n",
       "4                              21.8               59077             7.0      3  \n",
       "5                              26.2               57123             6.0      3  "
      ]
     },
     "execution_count": 46,
     "metadata": {},
     "output_type": "execute_result"
    }
   ],
   "source": [
    "final_data[\"COMMUNITY_AREA_NAME\"] = final_data[\"COMMUNITY_AREA_NAME\"] + \", Chicago\"\n",
    "\n",
    "\n",
    "final_data.reset_index(drop = True, inplace = True)\n",
    "\n",
    "final_data"
   ]
  },
  {
   "cell_type": "markdown",
   "metadata": {},
   "source": [
    "  "
   ]
  },
  {
   "cell_type": "markdown",
   "metadata": {},
   "source": [
    "In order to Narrow down our Analysis, I will choose 4 best neighborhoods to analyze further."
   ]
  },
  {
   "cell_type": "code",
   "execution_count": 47,
   "metadata": {},
   "outputs": [
    {
     "data": {
      "text/html": [
       "<div>\n",
       "<style scoped>\n",
       "    .dataframe tbody tr th:only-of-type {\n",
       "        vertical-align: middle;\n",
       "    }\n",
       "\n",
       "    .dataframe tbody tr th {\n",
       "        vertical-align: top;\n",
       "    }\n",
       "\n",
       "    .dataframe thead th {\n",
       "        text-align: right;\n",
       "    }\n",
       "</style>\n",
       "<table border=\"1\" class=\"dataframe\">\n",
       "  <thead>\n",
       "    <tr style=\"text-align: right;\">\n",
       "      <th></th>\n",
       "      <th>COMMUNITY_AREA_NAME</th>\n",
       "      <th>PERCENT OF HOUSING CROWDED</th>\n",
       "      <th>PERCENT HOUSEHOLDS BELOW POVERTY</th>\n",
       "      <th>PERCENT AGED 16+ UNEMPLOYED</th>\n",
       "      <th>PERCENT AGED 25+ WITHOUT HIGH SCHOOL DIPLOMA</th>\n",
       "      <th>PERCENT AGED UNDER 18 OR OVER 64</th>\n",
       "      <th>PER_CAPITA_INCOME</th>\n",
       "      <th>HARDSHIP_INDEX</th>\n",
       "      <th>LABEL</th>\n",
       "    </tr>\n",
       "  </thead>\n",
       "  <tbody>\n",
       "    <tr>\n",
       "      <th>0</th>\n",
       "      <td>Near North Side, Chicago</td>\n",
       "      <td>1.9</td>\n",
       "      <td>12.9</td>\n",
       "      <td>7.0</td>\n",
       "      <td>2.5</td>\n",
       "      <td>22.6</td>\n",
       "      <td>88669</td>\n",
       "      <td>1.0</td>\n",
       "      <td>3</td>\n",
       "    </tr>\n",
       "    <tr>\n",
       "      <th>1</th>\n",
       "      <td>Lincoln Park, Chicago</td>\n",
       "      <td>0.8</td>\n",
       "      <td>12.3</td>\n",
       "      <td>5.1</td>\n",
       "      <td>3.6</td>\n",
       "      <td>21.5</td>\n",
       "      <td>71551</td>\n",
       "      <td>2.0</td>\n",
       "      <td>3</td>\n",
       "    </tr>\n",
       "    <tr>\n",
       "      <th>2</th>\n",
       "      <td>Loop, Chicago</td>\n",
       "      <td>1.5</td>\n",
       "      <td>14.7</td>\n",
       "      <td>5.7</td>\n",
       "      <td>3.1</td>\n",
       "      <td>13.5</td>\n",
       "      <td>65526</td>\n",
       "      <td>3.0</td>\n",
       "      <td>3</td>\n",
       "    </tr>\n",
       "    <tr>\n",
       "      <th>3</th>\n",
       "      <td>Lake View, Chicago</td>\n",
       "      <td>1.1</td>\n",
       "      <td>11.4</td>\n",
       "      <td>4.7</td>\n",
       "      <td>2.6</td>\n",
       "      <td>17.0</td>\n",
       "      <td>60058</td>\n",
       "      <td>5.0</td>\n",
       "      <td>3</td>\n",
       "    </tr>\n",
       "  </tbody>\n",
       "</table>\n",
       "</div>"
      ],
      "text/plain": [
       "        COMMUNITY_AREA_NAME  PERCENT OF HOUSING CROWDED  \\\n",
       "0  Near North Side, Chicago                         1.9   \n",
       "1     Lincoln Park, Chicago                         0.8   \n",
       "2             Loop, Chicago                         1.5   \n",
       "3        Lake View, Chicago                         1.1   \n",
       "\n",
       "   PERCENT HOUSEHOLDS BELOW POVERTY  PERCENT AGED 16+ UNEMPLOYED  \\\n",
       "0                              12.9                          7.0   \n",
       "1                              12.3                          5.1   \n",
       "2                              14.7                          5.7   \n",
       "3                              11.4                          4.7   \n",
       "\n",
       "   PERCENT AGED 25+ WITHOUT HIGH SCHOOL DIPLOMA  \\\n",
       "0                                           2.5   \n",
       "1                                           3.6   \n",
       "2                                           3.1   \n",
       "3                                           2.6   \n",
       "\n",
       "   PERCENT AGED UNDER 18 OR OVER 64  PER_CAPITA_INCOME   HARDSHIP_INDEX  LABEL  \n",
       "0                              22.6               88669             1.0      3  \n",
       "1                              21.5               71551             2.0      3  \n",
       "2                              13.5               65526             3.0      3  \n",
       "3                              17.0               60058             5.0      3  "
      ]
     },
     "execution_count": 47,
     "metadata": {},
     "output_type": "execute_result"
    }
   ],
   "source": [
    "# Choosing four best neighborhoods\n",
    "final_data  = final_data.head(4)\n",
    "\n",
    "final_data"
   ]
  },
  {
   "cell_type": "markdown",
   "metadata": {},
   "source": [
    "Since we found 4 best neighborhoods to analyze, It is time to use Foursquare to analyze further and vizualie them"
   ]
  },
  {
   "cell_type": "markdown",
   "metadata": {},
   "source": [
    "  "
   ]
  },
  {
   "cell_type": "markdown",
   "metadata": {},
   "source": [
    "  "
   ]
  },
  {
   "cell_type": "markdown",
   "metadata": {},
   "source": [
    "## 3.2 Using Foursquare "
   ]
  },
  {
   "cell_type": "markdown",
   "metadata": {},
   "source": [
    " "
   ]
  },
  {
   "cell_type": "markdown",
   "metadata": {},
   "source": [
    "Now, I will use Foursquare to get location of each neighborhoods that I will use. Then I will visualize them on map. Our user agent name will be capstone_agent"
   ]
  },
  {
   "cell_type": "code",
   "execution_count": 49,
   "metadata": {},
   "outputs": [
    {
     "name": "stdout",
     "output_type": "stream",
     "text": [
      "[41.9000327, 41.94029765, 41.8755616, 41.94705]\n",
      "[-87.6344975, -87.6381171054176, -87.6244212, -87.6554287829005]\n"
     ]
    }
   ],
   "source": [
    "# Defining lists to store latitude and longitude values\n",
    "lat_list = []\n",
    "lng_list = []\n",
    "\n",
    "for address in final_data[\"COMMUNITY_AREA_NAME\"]:\n",
    "\n",
    "    geolocator = Nominatim(user_agent=\"capstone_agent\")\n",
    "    location = geolocator.geocode(address)\n",
    "    latitude = location.latitude\n",
    "    longitude = location.longitude\n",
    "    \n",
    "    lat_list.append(latitude)\n",
    "    lng_list.append(longitude)\n",
    "    \n",
    "\n",
    "print(lat_list)\n",
    "print(lng_list)\n"
   ]
  },
  {
   "cell_type": "markdown",
   "metadata": {},
   "source": [
    " "
   ]
  },
  {
   "cell_type": "markdown",
   "metadata": {},
   "source": [
    "Now, Lets extract latitude ang longitude of each neighborhoods. I will use abbrevations to represent neighborhood names"
   ]
  },
  {
   "cell_type": "code",
   "execution_count": 50,
   "metadata": {},
   "outputs": [],
   "source": [
    "# Near North Side\n",
    "lat_NNS = lat_list[0]\n",
    "long_NNS = lng_list[0]\n",
    "\n",
    "# Lincoln Park\n",
    "lat_LP = lat_list[1]\n",
    "long_LP = lng_list[1]\n",
    "\n",
    "# Loop\n",
    "lat_L = lat_list[2]\n",
    "long_L = lng_list[2]\n",
    "\n",
    "# Lake View\n",
    "lat_LW = lat_list[3]\n",
    "long_LW = lng_list[3]"
   ]
  },
  {
   "cell_type": "markdown",
   "metadata": {},
   "source": [
    "  "
   ]
  },
  {
   "cell_type": "markdown",
   "metadata": {},
   "source": [
    "Lets visualize each neighborhood on the map."
   ]
  },
  {
   "cell_type": "code",
   "execution_count": 52,
   "metadata": {},
   "outputs": [
    {
     "data": {
      "text/html": [
       "<div style=\"width:100%;\"><div style=\"position:relative;width:100%;height:0;padding-bottom:60%;\"><iframe src=\"data:text/html;charset=utf-8;base64,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\" style=\"position:absolute;width:100%;height:100%;left:0;top:0;border:none !important;\" allowfullscreen webkitallowfullscreen mozallowfullscreen></iframe></div></div>"
      ],
      "text/plain": [
       "<folium.folium.Map at 0x7f8610708828>"
      ]
     },
     "execution_count": 52,
     "metadata": {},
     "output_type": "execute_result"
    }
   ],
   "source": [
    "venues_map = folium.Map(location=[latitude,longitude], zoom_start=10) \n",
    "\n",
    "folium.CircleMarker(\n",
    "        [lat_NNS,long_NNS],\n",
    "        radius=10,\n",
    "        color='red',\n",
    "        popup=\"Near North Side\",\n",
    "        fill = True,\n",
    "        fill_color = 'red',\n",
    "        fill_opacity = 0.6\n",
    ").add_to(venues_map)\n",
    "\n",
    "folium.CircleMarker(\n",
    "        [lat_LP,long_LP],\n",
    "        radius=10,\n",
    "        color='red',\n",
    "        popup=\"Lincoln Park\",\n",
    "        fill = True,\n",
    "        fill_color = 'red',\n",
    "        fill_opacity = 0.6\n",
    ").add_to(venues_map)\n",
    "\n",
    "folium.CircleMarker(\n",
    "        [lat_L,long_L],\n",
    "        radius=10,\n",
    "        color='red',\n",
    "        popup=\"Loop\",\n",
    "        fill = True,\n",
    "        fill_color = 'red',\n",
    "        fill_opacity = 0.6\n",
    ").add_to(venues_map)\n",
    "\n",
    "\n",
    "folium.CircleMarker(\n",
    "        [lat_LW,long_LW],\n",
    "        radius=10,\n",
    "        color='red',\n",
    "        popup=\"Lake View\",\n",
    "        fill = True,\n",
    "        fill_color = 'red',\n",
    "        fill_opacity = 0.6\n",
    ").add_to(venues_map)\n",
    "\n",
    "venues_map"
   ]
  },
  {
   "cell_type": "markdown",
   "metadata": {},
   "source": [
    "  "
   ]
  },
  {
   "cell_type": "markdown",
   "metadata": {},
   "source": [
    " Now let's search for Starbucks in each neighborhoods. For this I will create an url for each neighborhood and then use request library to get json formatted data"
   ]
  },
  {
   "cell_type": "code",
   "execution_count": 33,
   "metadata": {},
   "outputs": [],
   "source": [
    "search_query = 'Starbucks'\n",
    "\n",
    "\n",
    "\n",
    "# Defining URLs for each neighborhood\n",
    "url_NNS = 'https://api.foursquare.com/v2/venues/search?client_id={}&client_secret={}&ll={},{}&v={}&query={}&limit={}&radius={}'.format(CLIENT_ID, CLIENT_SECRET, lat_NNS, long_NNS, VERSION, search_query, LIMIT,radius)\n",
    "\n",
    "url_LP = 'https://api.foursquare.com/v2/venues/search?client_id={}&client_secret={}&ll={},{}&v={}&query={}&limit={}&radius={}'.format(CLIENT_ID, CLIENT_SECRET, lat_LP, long_LP, VERSION, search_query, LIMIT,radius)\n",
    "\n",
    "url_L = 'https://api.foursquare.com/v2/venues/search?client_id={}&client_secret={}&ll={},{}&v={}&query={}&limit={}&radius={}'.format(CLIENT_ID, CLIENT_SECRET, lat_L, long_L, VERSION, search_query, LIMIT,radius)\n",
    "\n",
    "url_LW = 'https://api.foursquare.com/v2/venues/search?client_id={}&client_secret={}&ll={},{}&v={}&query={}&limit={}&radius={}'.format(CLIENT_ID, CLIENT_SECRET, lat_LW, long_LW, VERSION, search_query, LIMIT,radius)\n",
    "\n",
    "\n",
    "# Requesting data for each neighborhood\n",
    "result_NNS = requests.get(url_NNS).json()\n",
    "result_LP = requests.get(url_LP).json()\n",
    "result_L = requests.get(url_L).json()\n",
    "result_LW = requests.get(url_LW).json()\n"
   ]
  },
  {
   "cell_type": "markdown",
   "metadata": {},
   "source": [
    "Lets examine on eof them to see what is in"
   ]
  },
  {
   "cell_type": "code",
   "execution_count": 35,
   "metadata": {},
   "outputs": [
    {
     "data": {
      "text/plain": [
       "{'meta': {'code': 200, 'requestId': '5d1dca18bf7dde002c314303'},\n",
       " 'response': {'venues': [{'id': '58fef9fb6fd626300700921c',\n",
       "    'name': 'Starbucks Reserve',\n",
       "    'location': {'address': '3649 N Clark Street',\n",
       "     'lat': 41.94829540140019,\n",
       "     'lng': -87.65720664380231,\n",
       "     'labeledLatLngs': [{'label': 'display',\n",
       "       'lat': 41.94829540140019,\n",
       "       'lng': -87.65720664380231}],\n",
       "     'distance': 202,\n",
       "     'postalCode': '60613',\n",
       "     'cc': 'US',\n",
       "     'city': 'Chicago',\n",
       "     'state': 'IL',\n",
       "     'country': 'United States',\n",
       "     'formattedAddress': ['3649 N Clark Street',\n",
       "      'Chicago, IL 60613',\n",
       "      'United States']},\n",
       "    'categories': [{'id': '4bf58dd8d48988d1e0931735',\n",
       "      'name': 'Coffee Shop',\n",
       "      'pluralName': 'Coffee Shops',\n",
       "      'shortName': 'Coffee Shop',\n",
       "      'icon': {'prefix': 'https://ss3.4sqi.net/img/categories_v2/food/coffeeshop_',\n",
       "       'suffix': '.png'},\n",
       "      'primary': True}],\n",
       "    'referralId': 'v-1562233368',\n",
       "    'hasPerk': False},\n",
       "   {'id': '4a15b903f964a520c0781fe3',\n",
       "    'name': 'Starbucks',\n",
       "    'location': {'address': '3184 N Clark St',\n",
       "     'lat': 41.93980704,\n",
       "     'lng': -87.65081353,\n",
       "     'labeledLatLngs': [{'label': 'display',\n",
       "       'lat': 41.93980704,\n",
       "       'lng': -87.65081353}],\n",
       "     'distance': 892,\n",
       "     'postalCode': '60657',\n",
       "     'cc': 'US',\n",
       "     'city': 'Chicago',\n",
       "     'state': 'IL',\n",
       "     'country': 'United States',\n",
       "     'formattedAddress': ['3184 N Clark St',\n",
       "      'Chicago, IL 60657',\n",
       "      'United States']},\n",
       "    'categories': [{'id': '4bf58dd8d48988d1e0931735',\n",
       "      'name': 'Coffee Shop',\n",
       "      'pluralName': 'Coffee Shops',\n",
       "      'shortName': 'Coffee Shop',\n",
       "      'icon': {'prefix': 'https://ss3.4sqi.net/img/categories_v2/food/coffeeshop_',\n",
       "       'suffix': '.png'},\n",
       "      'primary': True}],\n",
       "    'referralId': 'v-1562233368',\n",
       "    'hasPerk': False},\n",
       "   {'id': '4ab54ef4f964a520e07320e3',\n",
       "    'name': 'Starbucks',\n",
       "    'location': {'address': '3400 N. Southport Ave.',\n",
       "     'crossStreet': 'at W Roscoe St',\n",
       "     'lat': 41.94358187,\n",
       "     'lng': -87.66415587,\n",
       "     'labeledLatLngs': [{'label': 'display',\n",
       "       'lat': 41.94358187,\n",
       "       'lng': -87.66415587}],\n",
       "     'distance': 819,\n",
       "     'postalCode': '60657',\n",
       "     'cc': 'US',\n",
       "     'city': 'Chicago',\n",
       "     'state': 'IL',\n",
       "     'country': 'United States',\n",
       "     'formattedAddress': ['3400 N. Southport Ave. (at W Roscoe St)',\n",
       "      'Chicago, IL 60657',\n",
       "      'United States']},\n",
       "    'categories': [{'id': '4bf58dd8d48988d1e0931735',\n",
       "      'name': 'Coffee Shop',\n",
       "      'pluralName': 'Coffee Shops',\n",
       "      'shortName': 'Coffee Shop',\n",
       "      'icon': {'prefix': 'https://ss3.4sqi.net/img/categories_v2/food/coffeeshop_',\n",
       "       'suffix': '.png'},\n",
       "      'primary': True}],\n",
       "    'referralId': 'v-1562233368',\n",
       "    'hasPerk': False},\n",
       "   {'id': '4b40f526f964a5203dbe25e3',\n",
       "    'name': 'Starbucks',\n",
       "    'location': {'address': '3358 N Broadway St',\n",
       "     'lat': 41.94362584,\n",
       "     'lng': -87.64513865,\n",
       "     'labeledLatLngs': [{'label': 'display',\n",
       "       'lat': 41.94362584,\n",
       "       'lng': -87.64513865}],\n",
       "     'distance': 933,\n",
       "     'postalCode': '60657',\n",
       "     'cc': 'US',\n",
       "     'city': 'Chicago',\n",
       "     'state': 'IL',\n",
       "     'country': 'United States',\n",
       "     'formattedAddress': ['3358 N Broadway St',\n",
       "      'Chicago, IL 60657',\n",
       "      'United States']},\n",
       "    'categories': [{'id': '4bf58dd8d48988d1e0931735',\n",
       "      'name': 'Coffee Shop',\n",
       "      'pluralName': 'Coffee Shops',\n",
       "      'shortName': 'Coffee Shop',\n",
       "      'icon': {'prefix': 'https://ss3.4sqi.net/img/categories_v2/food/coffeeshop_',\n",
       "       'suffix': '.png'},\n",
       "      'primary': True}],\n",
       "    'referralId': 'v-1562233368',\n",
       "    'hasPerk': False},\n",
       "   {'id': '4a8da3b1f964a5205a1020e3',\n",
       "    'name': 'Starbucks',\n",
       "    'location': {'address': '3549 N. Sheffield Ave.',\n",
       "     'lat': 41.94688709004546,\n",
       "     'lng': -87.65411717967287,\n",
       "     'labeledLatLngs': [{'label': 'display',\n",
       "       'lat': 41.94688709004546,\n",
       "       'lng': -87.65411717967287}],\n",
       "     'distance': 110,\n",
       "     'postalCode': '60657',\n",
       "     'cc': 'US',\n",
       "     'city': 'Chicago',\n",
       "     'state': 'IL',\n",
       "     'country': 'United States',\n",
       "     'formattedAddress': ['3549 N. Sheffield Ave.',\n",
       "      'Chicago, IL 60657',\n",
       "      'United States']},\n",
       "    'categories': [{'id': '4bf58dd8d48988d1e0931735',\n",
       "      'name': 'Coffee Shop',\n",
       "      'pluralName': 'Coffee Shops',\n",
       "      'shortName': 'Coffee Shop',\n",
       "      'icon': {'prefix': 'https://ss3.4sqi.net/img/categories_v2/food/coffeeshop_',\n",
       "       'suffix': '.png'},\n",
       "      'primary': True}],\n",
       "    'referralId': 'v-1562233368',\n",
       "    'hasPerk': False}]}}"
      ]
     },
     "execution_count": 35,
     "metadata": {},
     "output_type": "execute_result"
    }
   ],
   "source": [
    "result_LW"
   ]
  },
  {
   "cell_type": "markdown",
   "metadata": {},
   "source": [
    "  "
   ]
  },
  {
   "cell_type": "markdown",
   "metadata": {},
   "source": [
    "We see that what we want is stored in __response__ - __venues__. So I will get data from these tags because they are all we need to analyze. \n",
    "Since For each neighborhood I got json data, I will create new dataframe with desired information"
   ]
  },
  {
   "cell_type": "code",
   "execution_count": 36,
   "metadata": {},
   "outputs": [
    {
     "data": {
      "text/html": [
       "<div>\n",
       "<style scoped>\n",
       "    .dataframe tbody tr th:only-of-type {\n",
       "        vertical-align: middle;\n",
       "    }\n",
       "\n",
       "    .dataframe tbody tr th {\n",
       "        vertical-align: top;\n",
       "    }\n",
       "\n",
       "    .dataframe thead th {\n",
       "        text-align: right;\n",
       "    }\n",
       "</style>\n",
       "<table border=\"1\" class=\"dataframe\">\n",
       "  <thead>\n",
       "    <tr style=\"text-align: right;\">\n",
       "      <th></th>\n",
       "      <th>categories</th>\n",
       "      <th>hasPerk</th>\n",
       "      <th>id</th>\n",
       "      <th>location.address</th>\n",
       "      <th>location.cc</th>\n",
       "      <th>location.city</th>\n",
       "      <th>location.country</th>\n",
       "      <th>location.crossStreet</th>\n",
       "      <th>location.distance</th>\n",
       "      <th>location.formattedAddress</th>\n",
       "      <th>location.labeledLatLngs</th>\n",
       "      <th>location.lat</th>\n",
       "      <th>location.lng</th>\n",
       "      <th>location.postalCode</th>\n",
       "      <th>location.state</th>\n",
       "      <th>name</th>\n",
       "      <th>referralId</th>\n",
       "    </tr>\n",
       "  </thead>\n",
       "  <tbody>\n",
       "    <tr>\n",
       "      <th>0</th>\n",
       "      <td>[{'id': '4bf58dd8d48988d1e0931735', 'name': 'C...</td>\n",
       "      <td>False</td>\n",
       "      <td>58fef9fb6fd626300700921c</td>\n",
       "      <td>3649 N Clark Street</td>\n",
       "      <td>US</td>\n",
       "      <td>Chicago</td>\n",
       "      <td>United States</td>\n",
       "      <td>NaN</td>\n",
       "      <td>202</td>\n",
       "      <td>[3649 N Clark Street, Chicago, IL 60613, Unite...</td>\n",
       "      <td>[{'label': 'display', 'lat': 41.94829540140019...</td>\n",
       "      <td>41.948295</td>\n",
       "      <td>-87.657207</td>\n",
       "      <td>60613</td>\n",
       "      <td>IL</td>\n",
       "      <td>Starbucks Reserve</td>\n",
       "      <td>v-1562233368</td>\n",
       "    </tr>\n",
       "    <tr>\n",
       "      <th>1</th>\n",
       "      <td>[{'id': '4bf58dd8d48988d1e0931735', 'name': 'C...</td>\n",
       "      <td>False</td>\n",
       "      <td>4a15b903f964a520c0781fe3</td>\n",
       "      <td>3184 N Clark St</td>\n",
       "      <td>US</td>\n",
       "      <td>Chicago</td>\n",
       "      <td>United States</td>\n",
       "      <td>NaN</td>\n",
       "      <td>892</td>\n",
       "      <td>[3184 N Clark St, Chicago, IL 60657, United St...</td>\n",
       "      <td>[{'label': 'display', 'lat': 41.93980704, 'lng...</td>\n",
       "      <td>41.939807</td>\n",
       "      <td>-87.650814</td>\n",
       "      <td>60657</td>\n",
       "      <td>IL</td>\n",
       "      <td>Starbucks</td>\n",
       "      <td>v-1562233368</td>\n",
       "    </tr>\n",
       "    <tr>\n",
       "      <th>2</th>\n",
       "      <td>[{'id': '4bf58dd8d48988d1e0931735', 'name': 'C...</td>\n",
       "      <td>False</td>\n",
       "      <td>4ab54ef4f964a520e07320e3</td>\n",
       "      <td>3400 N. Southport Ave.</td>\n",
       "      <td>US</td>\n",
       "      <td>Chicago</td>\n",
       "      <td>United States</td>\n",
       "      <td>at W Roscoe St</td>\n",
       "      <td>819</td>\n",
       "      <td>[3400 N. Southport Ave. (at W Roscoe St), Chic...</td>\n",
       "      <td>[{'label': 'display', 'lat': 41.94358187, 'lng...</td>\n",
       "      <td>41.943582</td>\n",
       "      <td>-87.664156</td>\n",
       "      <td>60657</td>\n",
       "      <td>IL</td>\n",
       "      <td>Starbucks</td>\n",
       "      <td>v-1562233368</td>\n",
       "    </tr>\n",
       "    <tr>\n",
       "      <th>3</th>\n",
       "      <td>[{'id': '4bf58dd8d48988d1e0931735', 'name': 'C...</td>\n",
       "      <td>False</td>\n",
       "      <td>4b40f526f964a5203dbe25e3</td>\n",
       "      <td>3358 N Broadway St</td>\n",
       "      <td>US</td>\n",
       "      <td>Chicago</td>\n",
       "      <td>United States</td>\n",
       "      <td>NaN</td>\n",
       "      <td>933</td>\n",
       "      <td>[3358 N Broadway St, Chicago, IL 60657, United...</td>\n",
       "      <td>[{'label': 'display', 'lat': 41.94362584, 'lng...</td>\n",
       "      <td>41.943626</td>\n",
       "      <td>-87.645139</td>\n",
       "      <td>60657</td>\n",
       "      <td>IL</td>\n",
       "      <td>Starbucks</td>\n",
       "      <td>v-1562233368</td>\n",
       "    </tr>\n",
       "    <tr>\n",
       "      <th>4</th>\n",
       "      <td>[{'id': '4bf58dd8d48988d1e0931735', 'name': 'C...</td>\n",
       "      <td>False</td>\n",
       "      <td>4a8da3b1f964a5205a1020e3</td>\n",
       "      <td>3549 N. Sheffield Ave.</td>\n",
       "      <td>US</td>\n",
       "      <td>Chicago</td>\n",
       "      <td>United States</td>\n",
       "      <td>NaN</td>\n",
       "      <td>110</td>\n",
       "      <td>[3549 N. Sheffield Ave., Chicago, IL 60657, Un...</td>\n",
       "      <td>[{'label': 'display', 'lat': 41.94688709004546...</td>\n",
       "      <td>41.946887</td>\n",
       "      <td>-87.654117</td>\n",
       "      <td>60657</td>\n",
       "      <td>IL</td>\n",
       "      <td>Starbucks</td>\n",
       "      <td>v-1562233368</td>\n",
       "    </tr>\n",
       "  </tbody>\n",
       "</table>\n",
       "</div>"
      ],
      "text/plain": [
       "                                          categories  hasPerk  \\\n",
       "0  [{'id': '4bf58dd8d48988d1e0931735', 'name': 'C...    False   \n",
       "1  [{'id': '4bf58dd8d48988d1e0931735', 'name': 'C...    False   \n",
       "2  [{'id': '4bf58dd8d48988d1e0931735', 'name': 'C...    False   \n",
       "3  [{'id': '4bf58dd8d48988d1e0931735', 'name': 'C...    False   \n",
       "4  [{'id': '4bf58dd8d48988d1e0931735', 'name': 'C...    False   \n",
       "\n",
       "                         id        location.address location.cc location.city  \\\n",
       "0  58fef9fb6fd626300700921c     3649 N Clark Street          US       Chicago   \n",
       "1  4a15b903f964a520c0781fe3         3184 N Clark St          US       Chicago   \n",
       "2  4ab54ef4f964a520e07320e3  3400 N. Southport Ave.          US       Chicago   \n",
       "3  4b40f526f964a5203dbe25e3      3358 N Broadway St          US       Chicago   \n",
       "4  4a8da3b1f964a5205a1020e3  3549 N. Sheffield Ave.          US       Chicago   \n",
       "\n",
       "  location.country location.crossStreet  location.distance  \\\n",
       "0    United States                  NaN                202   \n",
       "1    United States                  NaN                892   \n",
       "2    United States       at W Roscoe St                819   \n",
       "3    United States                  NaN                933   \n",
       "4    United States                  NaN                110   \n",
       "\n",
       "                           location.formattedAddress  \\\n",
       "0  [3649 N Clark Street, Chicago, IL 60613, Unite...   \n",
       "1  [3184 N Clark St, Chicago, IL 60657, United St...   \n",
       "2  [3400 N. Southport Ave. (at W Roscoe St), Chic...   \n",
       "3  [3358 N Broadway St, Chicago, IL 60657, United...   \n",
       "4  [3549 N. Sheffield Ave., Chicago, IL 60657, Un...   \n",
       "\n",
       "                             location.labeledLatLngs  location.lat  \\\n",
       "0  [{'label': 'display', 'lat': 41.94829540140019...     41.948295   \n",
       "1  [{'label': 'display', 'lat': 41.93980704, 'lng...     41.939807   \n",
       "2  [{'label': 'display', 'lat': 41.94358187, 'lng...     41.943582   \n",
       "3  [{'label': 'display', 'lat': 41.94362584, 'lng...     41.943626   \n",
       "4  [{'label': 'display', 'lat': 41.94688709004546...     41.946887   \n",
       "\n",
       "   location.lng location.postalCode location.state               name  \\\n",
       "0    -87.657207               60613             IL  Starbucks Reserve   \n",
       "1    -87.650814               60657             IL          Starbucks   \n",
       "2    -87.664156               60657             IL          Starbucks   \n",
       "3    -87.645139               60657             IL          Starbucks   \n",
       "4    -87.654117               60657             IL          Starbucks   \n",
       "\n",
       "     referralId  \n",
       "0  v-1562233368  \n",
       "1  v-1562233368  \n",
       "2  v-1562233368  \n",
       "3  v-1562233368  \n",
       "4  v-1562233368  "
      ]
     },
     "execution_count": 36,
     "metadata": {},
     "output_type": "execute_result"
    }
   ],
   "source": [
    "# Creating venues data frame for each neighborhood with json normalize \n",
    "\n",
    "venue_NNS = json_normalize(result_NNS[\"response\"][\"venues\"])\n",
    "venue_LP = json_normalize(result_LP[\"response\"][\"venues\"])\n",
    "venue_L = json_normalize(result_L[\"response\"][\"venues\"])\n",
    "venue_LW = json_normalize(result_LW[\"response\"][\"venues\"])\n",
    "\n",
    "\n",
    "# Observing one of them to see what is in there\n",
    "venue_LW.head()"
   ]
  },
  {
   "cell_type": "markdown",
   "metadata": {},
   "source": [
    "  "
   ]
  },
  {
   "cell_type": "markdown",
   "metadata": {},
   "source": [
    "We see that majority of columns are useless for my analysis and I will get rid of them "
   ]
  },
  {
   "cell_type": "code",
   "execution_count": 38,
   "metadata": {},
   "outputs": [
    {
     "data": {
      "text/html": [
       "<div>\n",
       "<style scoped>\n",
       "    .dataframe tbody tr th:only-of-type {\n",
       "        vertical-align: middle;\n",
       "    }\n",
       "\n",
       "    .dataframe tbody tr th {\n",
       "        vertical-align: top;\n",
       "    }\n",
       "\n",
       "    .dataframe thead th {\n",
       "        text-align: right;\n",
       "    }\n",
       "</style>\n",
       "<table border=\"1\" class=\"dataframe\">\n",
       "  <thead>\n",
       "    <tr style=\"text-align: right;\">\n",
       "      <th></th>\n",
       "      <th>id</th>\n",
       "      <th>location.lat</th>\n",
       "      <th>location.lng</th>\n",
       "      <th>name</th>\n",
       "    </tr>\n",
       "  </thead>\n",
       "  <tbody>\n",
       "    <tr>\n",
       "      <th>0</th>\n",
       "      <td>58fef9fb6fd626300700921c</td>\n",
       "      <td>41.948295</td>\n",
       "      <td>-87.657207</td>\n",
       "      <td>Starbucks Reserve</td>\n",
       "    </tr>\n",
       "    <tr>\n",
       "      <th>1</th>\n",
       "      <td>4a15b903f964a520c0781fe3</td>\n",
       "      <td>41.939807</td>\n",
       "      <td>-87.650814</td>\n",
       "      <td>Starbucks</td>\n",
       "    </tr>\n",
       "    <tr>\n",
       "      <th>2</th>\n",
       "      <td>4ab54ef4f964a520e07320e3</td>\n",
       "      <td>41.943582</td>\n",
       "      <td>-87.664156</td>\n",
       "      <td>Starbucks</td>\n",
       "    </tr>\n",
       "    <tr>\n",
       "      <th>3</th>\n",
       "      <td>4b40f526f964a5203dbe25e3</td>\n",
       "      <td>41.943626</td>\n",
       "      <td>-87.645139</td>\n",
       "      <td>Starbucks</td>\n",
       "    </tr>\n",
       "    <tr>\n",
       "      <th>4</th>\n",
       "      <td>4a8da3b1f964a5205a1020e3</td>\n",
       "      <td>41.946887</td>\n",
       "      <td>-87.654117</td>\n",
       "      <td>Starbucks</td>\n",
       "    </tr>\n",
       "  </tbody>\n",
       "</table>\n",
       "</div>"
      ],
      "text/plain": [
       "                         id  location.lat  location.lng               name\n",
       "0  58fef9fb6fd626300700921c     41.948295    -87.657207  Starbucks Reserve\n",
       "1  4a15b903f964a520c0781fe3     41.939807    -87.650814          Starbucks\n",
       "2  4ab54ef4f964a520e07320e3     41.943582    -87.664156          Starbucks\n",
       "3  4b40f526f964a5203dbe25e3     41.943626    -87.645139          Starbucks\n",
       "4  4a8da3b1f964a5205a1020e3     41.946887    -87.654117          Starbucks"
      ]
     },
     "execution_count": 38,
     "metadata": {},
     "output_type": "execute_result"
    }
   ],
   "source": [
    "# Defining a list with columns to drop\n",
    "to_drop = [\"categories\",\"hasPerk\",\"location.address\",\"location.cc\",\"location.city\",\n",
    "           \"location.country\",\"location.distance\",\"location.crossStreet\",\"location.formattedAddress\",\n",
    "           \"location.labeledLatLngs\",\"location.postalCode\",\n",
    "           \"location.state\",\"referralId\"]\n",
    "\n",
    "\n",
    "#Dropping columns from each dataframe\n",
    "venue_NNS.drop(columns = to_drop, inplace = True)\n",
    "venue_LP.drop(columns = to_drop, inplace = True)\n",
    "venue_L.drop(columns = to_drop, inplace = True)\n",
    "venue_LW.drop(columns = to_drop, inplace = True)\n",
    "\n",
    "# Observing one of them\n",
    "venue_LW.head()"
   ]
  },
  {
   "cell_type": "markdown",
   "metadata": {},
   "source": [
    " "
   ]
  },
  {
   "cell_type": "markdown",
   "metadata": {},
   "source": [
    "Lets create new lists to get lattitude and longitude for each neighborhoods in our dataframes. This will make easier to visualize each coffe shop in each neighborhood on the map"
   ]
  },
  {
   "cell_type": "code",
   "execution_count": 39,
   "metadata": {},
   "outputs": [],
   "source": [
    "#For latitude I use_lat list and for longitude I use lng_list\n",
    "NNS_lat_list = list(venue_NNS[\"location.lat\"].values)\n",
    "NNS_lng_list = list(venue_NNS[\"location.lng\"].values)\n",
    "\n",
    "LP_lat_list = list(venue_LP[\"location.lat\"].values)\n",
    "LP_lng_list = list(venue_LP[\"location.lng\"].values)\n",
    "\n",
    "L_lat_list = list(venue_L[\"location.lat\"].values)\n",
    "L_lng_list = list(venue_L[\"location.lng\"].values)\n",
    "\n",
    "LW_lat_list = list(venue_LW[\"location.lat\"].values)\n",
    "LW_lng_list = list(venue_LW[\"location.lng\"].values)"
   ]
  },
  {
   "cell_type": "markdown",
   "metadata": {},
   "source": [
    "\n",
    "  "
   ]
  },
  {
   "cell_type": "markdown",
   "metadata": {},
   "source": [
    "Visualize each spot on the map with neihborhood centers"
   ]
  },
  {
   "cell_type": "code",
   "execution_count": 53,
   "metadata": {},
   "outputs": [
    {
     "data": {
      "text/html": [
       "<div style=\"width:100%;\"><div style=\"position:relative;width:100%;height:0;padding-bottom:60%;\"><iframe src=\"data:text/html;charset=utf-8;base64,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\" style=\"position:absolute;width:100%;height:100%;left:0;top:0;border:none !important;\" allowfullscreen webkitallowfullscreen mozallowfullscreen></iframe></div></div>"
      ],
      "text/plain": [
       "<folium.folium.Map at 0x7f860ed7d128>"
      ]
     },
     "execution_count": 53,
     "metadata": {},
     "output_type": "execute_result"
    }
   ],
   "source": [
    "venues_map = folium.Map(location=[latitude,longitude], zoom_start=10) \n",
    "\n",
    "folium.CircleMarker(\n",
    "        [lat_NNS,long_NNS],\n",
    "        radius=10,\n",
    "        color='red',\n",
    "        popup=\"Near North Side\",\n",
    "        fill = True,\n",
    "        fill_color = 'red',\n",
    "        fill_opacity = 0.6\n",
    ").add_to(venues_map)\n",
    "\n",
    "folium.CircleMarker(\n",
    "        [lat_LP,long_LP],\n",
    "        radius=10,\n",
    "        color='red',\n",
    "        popup=\"Lincoln Park\",\n",
    "        fill = True,\n",
    "        fill_color = 'red',\n",
    "        fill_opacity = 0.6\n",
    ").add_to(venues_map)\n",
    "\n",
    "folium.CircleMarker(\n",
    "        [lat_L,long_L],\n",
    "        radius=10,\n",
    "        color='red',\n",
    "        popup=\"Loop\",\n",
    "        fill = True,\n",
    "        fill_color = 'red',\n",
    "        fill_opacity = 0.6\n",
    ").add_to(venues_map)\n",
    "\n",
    "\n",
    "folium.CircleMarker(\n",
    "        [lat_LW,long_LW],\n",
    "        radius=10,\n",
    "        color='red',\n",
    "        popup=\"Lake View\",\n",
    "        fill = True,\n",
    "        fill_color = 'red',\n",
    "        fill_opacity = 0.6\n",
    ").add_to(venues_map)\n",
    "\n",
    "\n",
    "\n",
    "\n",
    "\n",
    "for lat,lng,name in zip(NNS_lat_list, NNS_lng_list,venue_NNS[\"name\"]):\n",
    "    folium.CircleMarker(\n",
    "        [lat,lng],\n",
    "        radius=5,\n",
    "        color='green',\n",
    "        popup=name,\n",
    "        fill = True,\n",
    "        fill_color = 'green',\n",
    "        fill_opacity = 0.6\n",
    ").add_to(venues_map)\n",
    "    \n",
    "for lat,lng,name in zip(LP_lat_list, LP_lng_list,venue_LP[\"name\"]):\n",
    "    folium.CircleMarker(\n",
    "        [lat,lng],\n",
    "        radius=5,\n",
    "        color='green',\n",
    "        popup=name,\n",
    "        fill = True,\n",
    "        fill_color = 'green',\n",
    "        fill_opacity = 0.6\n",
    ").add_to(venues_map)\n",
    "    \n",
    "    \n",
    "for lat,lng,name in zip(L_lat_list, L_lng_list,venue_L[\"name\"]):\n",
    "    folium.CircleMarker(\n",
    "        [lat,lng],\n",
    "        radius=5,\n",
    "        color='green',\n",
    "        popup=name,\n",
    "        fill = True,\n",
    "        fill_color = 'green',\n",
    "        fill_opacity = 0.6\n",
    ").add_to(venues_map)\n",
    "    \n",
    "\n",
    "for lat,lng,name in zip(LW_lat_list, LW_lng_list,venue_LW[\"name\"]):\n",
    "    folium.CircleMarker(\n",
    "        [lat,lng],\n",
    "        radius=5,\n",
    "        color='green',\n",
    "        popup=name,\n",
    "        fill = True,\n",
    "        fill_color = 'green',\n",
    "        fill_opacity = 0.6\n",
    ").add_to(venues_map)\n",
    "\n",
    "\n",
    "venues_map"
   ]
  },
  {
   "cell_type": "markdown",
   "metadata": {},
   "source": [
    "  "
   ]
  },
  {
   "cell_type": "markdown",
   "metadata": {},
   "source": [
    "At First it is observed that Both of Near North Side and Loop community areas are very crowded where as Lake View and Lincoln Park are good places to open a new Starbucks shop:\n",
    "1. Crowded : __Near North Side and Loop__\n",
    "2. Not Crowded : __Lake View and Lincoln Park__\n",
    "\n",
    "But I am going to analyze further and use statistics to improve my analysis"
   ]
  },
  {
   "cell_type": "markdown",
   "metadata": {},
   "source": [
    "  "
   ]
  },
  {
   "cell_type": "markdown",
   "metadata": {},
   "source": [
    "## 3.3 Statistical Inferences"
   ]
  },
  {
   "cell_type": "markdown",
   "metadata": {},
   "source": [
    "In this part I am going to get ratings of each Starbucks shop and analye these ratings to determine which neighborhoods are in desperate need of new and better serving Shop. To do this I will use premium Foursquare calls:\n",
    "\n",
    "1. Create a list to store ratings\n",
    "2. Get venue ids from neighborhoods dataframes\n",
    "3. Use these ids to get information about specific places and store their ratings\n",
    "4. Analyze ratings \n",
    "\n",
    "Note : For any place without rating, I will pass them. Ratings are stored in response-venue-rating"
   ]
  },
  {
   "cell_type": "markdown",
   "metadata": {},
   "source": [
    "  "
   ]
  },
  {
   "cell_type": "code",
   "execution_count": 55,
   "metadata": {},
   "outputs": [],
   "source": [
    "# Near North Side rating list\n",
    "rating_NNS = []\n",
    "\n",
    "# Looping over venue ids, creating corresponding URL and getting details\n",
    "\n",
    "for i in range(len(venue_NNS)):\n",
    "    venue_id = venue_NNS[\"id\"][i]\n",
    "    \n",
    "    url = 'https://api.foursquare.com/v2/venues/{}?client_id={}&client_secret={}&v={}'.format(venue_id, CLIENT_ID, CLIENT_SECRET, VERSION)\n",
    "\n",
    "    rating = requests.get(url).json()\n",
    "    \n",
    "    try:\n",
    "        rating_NNS.append(rating[\"response\"][\"venue\"][\"rating\"])\n",
    "    except:\n",
    "        pass\n",
    "\n",
    "rating_NNS = pd.DataFrame(rating_NNS, columns = [\"scores\"])"
   ]
  },
  {
   "cell_type": "markdown",
   "metadata": {},
   "source": [
    "  "
   ]
  },
  {
   "cell_type": "code",
   "execution_count": 56,
   "metadata": {},
   "outputs": [],
   "source": [
    "# Lincoln Park rating list\n",
    "rating_LP = []\n",
    "\n",
    "# Looping over venue ids, creating corresponding URL and getting details\n",
    "\n",
    "for i in range(len(venue_LP)):\n",
    "    venue_id = venue_LP[\"id\"][i]\n",
    "    \n",
    "    url = 'https://api.foursquare.com/v2/venues/{}?client_id={}&client_secret={}&v={}'.format(venue_id, CLIENT_ID, CLIENT_SECRET, VERSION)\n",
    "\n",
    "    rating = requests.get(url).json()\n",
    "    \n",
    "    try:\n",
    "        rating_LP.append(rating[\"response\"][\"venue\"][\"rating\"])\n",
    "    except:\n",
    "        pass\n",
    "     \n",
    "\n",
    "rating_LP = pd.DataFrame(rating_LP, columns = [\"scores\"])"
   ]
  },
  {
   "cell_type": "markdown",
   "metadata": {},
   "source": [
    "  "
   ]
  },
  {
   "cell_type": "code",
   "execution_count": 57,
   "metadata": {},
   "outputs": [],
   "source": [
    "# Loop rating list\n",
    "rating_L = []\n",
    "\n",
    "# Looping over venue ids, creating corresponding URL and getting details\n",
    "\n",
    "for i in range(len(venue_L)):\n",
    "    venue_id = venue_L[\"id\"][i]\n",
    "    \n",
    "    url = 'https://api.foursquare.com/v2/venues/{}?client_id={}&client_secret={}&v={}'.format(venue_id, CLIENT_ID, CLIENT_SECRET, VERSION)\n",
    "\n",
    "    rating = requests.get(url).json()\n",
    "    \n",
    "    try:\n",
    "        rating_L.append(rating[\"response\"][\"venue\"][\"rating\"])\n",
    "    except:\n",
    "        pass\n",
    "\n",
    "rating_L = pd.DataFrame(rating_L, columns = [\"scores\"])"
   ]
  },
  {
   "cell_type": "markdown",
   "metadata": {},
   "source": [
    " "
   ]
  },
  {
   "cell_type": "code",
   "execution_count": 58,
   "metadata": {},
   "outputs": [],
   "source": [
    "# Lake View rating list\n",
    "rating_LW = []\n",
    "\n",
    "# Looping over venue ids, creating corresponding URL and getting details\n",
    "\n",
    "for i in range(len(venue_LW)):\n",
    "    venue_id = venue_LW[\"id\"][i]\n",
    "    \n",
    "    url = 'https://api.foursquare.com/v2/venues/{}?client_id={}&client_secret={}&v={}'.format(venue_id, CLIENT_ID, CLIENT_SECRET, VERSION)\n",
    "\n",
    "    rating = requests.get(url).json()\n",
    "    \n",
    "    try:\n",
    "        rating_LW.append(rating[\"response\"][\"venue\"][\"rating\"])\n",
    "    except:\n",
    "        pass\n",
    "\n",
    "rating_LW = pd.DataFrame(rating_LW, columns = [\"scores\"])"
   ]
  },
  {
   "cell_type": "markdown",
   "metadata": {},
   "source": [
    "  "
   ]
  },
  {
   "cell_type": "markdown",
   "metadata": {},
   "source": [
    "Lets check each dataframe with ratings with describe method and gain some insights. To ease comparison I will create a new dataframe containing all of the datas from individual neighborhoods dataframe describe method. But First lets see what describe method gives us"
   ]
  },
  {
   "cell_type": "code",
   "execution_count": 82,
   "metadata": {},
   "outputs": [
    {
     "data": {
      "text/html": [
       "<div>\n",
       "<style scoped>\n",
       "    .dataframe tbody tr th:only-of-type {\n",
       "        vertical-align: middle;\n",
       "    }\n",
       "\n",
       "    .dataframe tbody tr th {\n",
       "        vertical-align: top;\n",
       "    }\n",
       "\n",
       "    .dataframe thead th {\n",
       "        text-align: right;\n",
       "    }\n",
       "</style>\n",
       "<table border=\"1\" class=\"dataframe\">\n",
       "  <thead>\n",
       "    <tr style=\"text-align: right;\">\n",
       "      <th></th>\n",
       "      <th>scores</th>\n",
       "    </tr>\n",
       "  </thead>\n",
       "  <tbody>\n",
       "    <tr>\n",
       "      <th>count</th>\n",
       "      <td>28.000000</td>\n",
       "    </tr>\n",
       "    <tr>\n",
       "      <th>mean</th>\n",
       "      <td>7.457143</td>\n",
       "    </tr>\n",
       "    <tr>\n",
       "      <th>std</th>\n",
       "      <td>0.792291</td>\n",
       "    </tr>\n",
       "    <tr>\n",
       "      <th>min</th>\n",
       "      <td>5.100000</td>\n",
       "    </tr>\n",
       "    <tr>\n",
       "      <th>25%</th>\n",
       "      <td>7.175000</td>\n",
       "    </tr>\n",
       "    <tr>\n",
       "      <th>50%</th>\n",
       "      <td>7.500000</td>\n",
       "    </tr>\n",
       "    <tr>\n",
       "      <th>75%</th>\n",
       "      <td>8.100000</td>\n",
       "    </tr>\n",
       "    <tr>\n",
       "      <th>max</th>\n",
       "      <td>8.800000</td>\n",
       "    </tr>\n",
       "  </tbody>\n",
       "</table>\n",
       "</div>"
      ],
      "text/plain": [
       "          scores\n",
       "count  28.000000\n",
       "mean    7.457143\n",
       "std     0.792291\n",
       "min     5.100000\n",
       "25%     7.175000\n",
       "50%     7.500000\n",
       "75%     8.100000\n",
       "max     8.800000"
      ]
     },
     "execution_count": 82,
     "metadata": {},
     "output_type": "execute_result"
    }
   ],
   "source": [
    "rating_NNS.describe()"
   ]
  },
  {
   "cell_type": "markdown",
   "metadata": {},
   "source": [
    "Now, I will use this method and get values. Then I will concatanate them for ease comparision"
   ]
  },
  {
   "cell_type": "code",
   "execution_count": 83,
   "metadata": {},
   "outputs": [
    {
     "data": {
      "text/html": [
       "<div>\n",
       "<style scoped>\n",
       "    .dataframe tbody tr th:only-of-type {\n",
       "        vertical-align: middle;\n",
       "    }\n",
       "\n",
       "    .dataframe tbody tr th {\n",
       "        vertical-align: top;\n",
       "    }\n",
       "\n",
       "    .dataframe thead th {\n",
       "        text-align: right;\n",
       "    }\n",
       "</style>\n",
       "<table border=\"1\" class=\"dataframe\">\n",
       "  <thead>\n",
       "    <tr style=\"text-align: right;\">\n",
       "      <th></th>\n",
       "      <th>Near North Side</th>\n",
       "    </tr>\n",
       "  </thead>\n",
       "  <tbody>\n",
       "    <tr>\n",
       "      <th>count</th>\n",
       "      <td>28.000000</td>\n",
       "    </tr>\n",
       "    <tr>\n",
       "      <th>mean</th>\n",
       "      <td>7.457143</td>\n",
       "    </tr>\n",
       "    <tr>\n",
       "      <th>std</th>\n",
       "      <td>0.792291</td>\n",
       "    </tr>\n",
       "    <tr>\n",
       "      <th>min</th>\n",
       "      <td>5.100000</td>\n",
       "    </tr>\n",
       "    <tr>\n",
       "      <th>25%</th>\n",
       "      <td>7.175000</td>\n",
       "    </tr>\n",
       "    <tr>\n",
       "      <th>50%</th>\n",
       "      <td>7.500000</td>\n",
       "    </tr>\n",
       "    <tr>\n",
       "      <th>75%</th>\n",
       "      <td>8.100000</td>\n",
       "    </tr>\n",
       "    <tr>\n",
       "      <th>max</th>\n",
       "      <td>8.800000</td>\n",
       "    </tr>\n",
       "  </tbody>\n",
       "</table>\n",
       "</div>"
      ],
      "text/plain": [
       "       Near North Side\n",
       "count        28.000000\n",
       "mean          7.457143\n",
       "std           0.792291\n",
       "min           5.100000\n",
       "25%           7.175000\n",
       "50%           7.500000\n",
       "75%           8.100000\n",
       "max           8.800000"
      ]
     },
     "execution_count": 83,
     "metadata": {},
     "output_type": "execute_result"
    }
   ],
   "source": [
    "# Index values - Since all indexes are the same I will get only one of them and use the same for all\n",
    "index = rating_NNS.describe().index\n",
    "\n",
    "\n",
    "# defining new dataframes containing describe method datas\n",
    "\n",
    "describe_NNS = pd.DataFrame(rating_NNS.describe().values, columns = [\"Near North Side\"])\n",
    "describe_NNS.index = index\n",
    "\n",
    "describe_LP = pd.DataFrame(rating_LP.describe().values, columns = [\"Lincoln Park\"])\n",
    "describe_LP.index = index\n",
    "\n",
    "describe_L = pd.DataFrame(rating_L.describe().values, columns = [\"Loop\"])\n",
    "describe_L.index = index\n",
    "\n",
    "describe_LW = pd.DataFrame(rating_LW.describe().values, columns = [\"Lake View\"])\n",
    "describe_LW.index = index\n",
    "\n",
    "\n",
    "# Checking one of them for insights\n",
    "describe_NNS"
   ]
  },
  {
   "cell_type": "markdown",
   "metadata": {},
   "source": [
    "  "
   ]
  },
  {
   "cell_type": "markdown",
   "metadata": {},
   "source": [
    "Lets concatanate them to one dataframe"
   ]
  },
  {
   "cell_type": "code",
   "execution_count": 98,
   "metadata": {},
   "outputs": [
    {
     "data": {
      "text/html": [
       "<div>\n",
       "<style scoped>\n",
       "    .dataframe tbody tr th:only-of-type {\n",
       "        vertical-align: middle;\n",
       "    }\n",
       "\n",
       "    .dataframe tbody tr th {\n",
       "        vertical-align: top;\n",
       "    }\n",
       "\n",
       "    .dataframe thead th {\n",
       "        text-align: right;\n",
       "    }\n",
       "</style>\n",
       "<table border=\"1\" class=\"dataframe\">\n",
       "  <thead>\n",
       "    <tr style=\"text-align: right;\">\n",
       "      <th></th>\n",
       "      <th>count</th>\n",
       "      <th>mean</th>\n",
       "      <th>std</th>\n",
       "      <th>min</th>\n",
       "      <th>25%</th>\n",
       "      <th>50%</th>\n",
       "      <th>75%</th>\n",
       "      <th>max</th>\n",
       "    </tr>\n",
       "  </thead>\n",
       "  <tbody>\n",
       "    <tr>\n",
       "      <th>Near North Side</th>\n",
       "      <td>28.0</td>\n",
       "      <td>7.457143</td>\n",
       "      <td>0.792291</td>\n",
       "      <td>5.1</td>\n",
       "      <td>7.175</td>\n",
       "      <td>7.5</td>\n",
       "      <td>8.1</td>\n",
       "      <td>8.8</td>\n",
       "    </tr>\n",
       "    <tr>\n",
       "      <th>Lincoln Park</th>\n",
       "      <td>3.0</td>\n",
       "      <td>7.900000</td>\n",
       "      <td>0.754983</td>\n",
       "      <td>7.1</td>\n",
       "      <td>7.550</td>\n",
       "      <td>8.0</td>\n",
       "      <td>8.3</td>\n",
       "      <td>8.6</td>\n",
       "    </tr>\n",
       "    <tr>\n",
       "      <th>Loop</th>\n",
       "      <td>33.0</td>\n",
       "      <td>7.163636</td>\n",
       "      <td>0.630386</td>\n",
       "      <td>5.6</td>\n",
       "      <td>6.600</td>\n",
       "      <td>7.3</td>\n",
       "      <td>7.7</td>\n",
       "      <td>8.1</td>\n",
       "    </tr>\n",
       "    <tr>\n",
       "      <th>Lake View</th>\n",
       "      <td>5.0</td>\n",
       "      <td>7.540000</td>\n",
       "      <td>0.716240</td>\n",
       "      <td>7.1</td>\n",
       "      <td>7.100</td>\n",
       "      <td>7.3</td>\n",
       "      <td>7.4</td>\n",
       "      <td>8.8</td>\n",
       "    </tr>\n",
       "  </tbody>\n",
       "</table>\n",
       "</div>"
      ],
      "text/plain": [
       "                 count      mean       std  min    25%  50%  75%  max\n",
       "Near North Side   28.0  7.457143  0.792291  5.1  7.175  7.5  8.1  8.8\n",
       "Lincoln Park       3.0  7.900000  0.754983  7.1  7.550  8.0  8.3  8.6\n",
       "Loop              33.0  7.163636  0.630386  5.6  6.600  7.3  7.7  8.1\n",
       "Lake View          5.0  7.540000  0.716240  7.1  7.100  7.3  7.4  8.8"
      ]
     },
     "execution_count": 98,
     "metadata": {},
     "output_type": "execute_result"
    }
   ],
   "source": [
    "# Dataframes to join in list\n",
    "to_join = [describe_NNS, describe_LP, describe_L, describe_LW]\n",
    "\n",
    "# Joining all of them\n",
    "compare = to_join[0].join(to_join[1:])\n",
    "\n",
    "# Getting transpose to observe better\n",
    "compare = compare.transpose()\n",
    "\n",
    "compare"
   ]
  },
  {
   "cell_type": "markdown",
   "metadata": {},
   "source": [
    "In here we observe again that, Near North is very crowded and ratings are high. On the other hand Lincoln park is less crowded and ratings are very high. Lets vizualie further.\n",
    "\n",
    "Lets Use Seaborn library to visualize ratings for each neighborhood"
   ]
  },
  {
   "cell_type": "markdown",
   "metadata": {},
   "source": [
    "  "
   ]
  },
  {
   "cell_type": "code",
   "execution_count": 101,
   "metadata": {},
   "outputs": [
    {
     "name": "stderr",
     "output_type": "stream",
     "text": [
      "/home/musto/anaconda3/lib/python3.7/site-packages/matplotlib/figure.py:445: UserWarning: Matplotlib is currently using module://ipykernel.pylab.backend_inline, which is a non-GUI backend, so cannot show the figure.\n",
      "  % get_backend())\n"
     ]
    },
    {
     "data": {
      "image/png": "[encoded data removed]",
      "text/plain": [
       "<Figure size 1080x864 with 4 Axes>"
      ]
     },
     "metadata": {
      "needs_background": "light"
     },
     "output_type": "display_data"
    }
   ],
   "source": [
    "# Creating figure with 4 subplots\n",
    "fig, ax =plt.subplots(2,2, figsize = (15,12))\n",
    "\n",
    "\n",
    "# plotting\n",
    "sns.distplot(rating_NNS.scores,kde = True, ax=ax[0][0])\n",
    "sns.distplot(rating_LP.scores,kde = True, ax=ax[0][1])\n",
    "sns.distplot(rating_L.scores,kde = True, ax=ax[1][0])\n",
    "sns.distplot(rating_LW.scores,kde = True, ax=ax[1][1])\n",
    "\n",
    "\n",
    "# Setting titles\n",
    "ax[0][0].set_title(\"Nort Near Side\",fontsize = 20)\n",
    "ax[0][1].set_title(\"Lincoln Park\",fontsize = 20)\n",
    "ax[1][0].set_title(\"Loop\",fontsize = 20)\n",
    "ax[1][1].set_title(\"Lake View\",fontsize = 20)\n",
    "\n",
    "\n",
    "\n",
    "fig.tight_layout()\n",
    "fig.show()"
   ]
  },
  {
   "cell_type": "markdown",
   "metadata": {},
   "source": [
    "  "
   ]
  },
  {
   "cell_type": "markdown",
   "metadata": {},
   "source": [
    "Now lets use boxplots to compare each of them and vizualize at the same graph. For that, I will create a dictionary, Store values in appropriate keys and visualize them"
   ]
  },
  {
   "cell_type": "code",
   "execution_count": 105,
   "metadata": {},
   "outputs": [],
   "source": [
    "# Creating dictionary with rating values\n",
    "compare_dict = {\"Near North Side\": rating_NNS.scores,\n",
    "                \"Lincoln Park\":rating_LP.scores,\n",
    "                \"Loop\":rating_L.scores,\n",
    "                \"Lake Wiew\":rating_LW.scores}"
   ]
  },
  {
   "cell_type": "markdown",
   "metadata": {},
   "source": [
    "  "
   ]
  },
  {
   "cell_type": "code",
   "execution_count": 109,
   "metadata": {},
   "outputs": [
    {
     "name": "stderr",
     "output_type": "stream",
     "text": [
      "/home/musto/anaconda3/lib/python3.7/site-packages/matplotlib/figure.py:445: UserWarning: Matplotlib is currently using module://ipykernel.pylab.backend_inline, which is a non-GUI backend, so cannot show the figure.\n",
      "  % get_backend())\n"
     ]
    },
    {
     "data": {
      "image/png": "[encoded data removed]",
      "text/plain": [
       "<Figure size 1008x576 with 1 Axes>"
      ]
     },
     "metadata": {
      "needs_background": "light"
     },
     "output_type": "display_data"
    }
   ],
   "source": [
    "# Creating Box plot to observe all of them and compare\n",
    "\n",
    "fig, ax = plt.subplots(figsize = (14,8))\n",
    "\n",
    "ax.boxplot(compare_dict.values())\n",
    "\n",
    "ax.set_title(\"Comparison of Neighborhoods\",fontsize = 20)\n",
    "\n",
    "\n",
    "ax.set_xticklabels(compare_dict.keys(),fontsize  = 15)\n",
    "\n",
    "\n",
    "fig.tight_layout()\n",
    "fig.show()"
   ]
  },
  {
   "cell_type": "markdown",
   "metadata": {},
   "source": [
    " This is the end of Analysis Section. In the next section I will analyze my findings and will come to final decision"
   ]
  },
  {
   "cell_type": "markdown",
   "metadata": {},
   "source": [
    "  "
   ]
  },
  {
   "cell_type": "markdown",
   "metadata": {},
   "source": [
    "  "
   ]
  },
  {
   "cell_type": "markdown",
   "metadata": {},
   "source": [
    "# 4 : Results and Discussion"
   ]
  },
  {
   "cell_type": "markdown",
   "metadata": {},
   "source": [
    " "
   ]
  },
  {
   "cell_type": "markdown",
   "metadata": {},
   "source": [
    "In this section I will use my findings to come to conclusion. Also I will present my thougths about my flaws and what can deteriote my analysis"
   ]
  },
  {
   "cell_type": "markdown",
   "metadata": {},
   "source": [
    " "
   ]
  },
  {
   "cell_type": "markdown",
   "metadata": {},
   "source": [
    "## 4.1 : Results"
   ]
  },
  {
   "cell_type": "markdown",
   "metadata": {},
   "source": [
    " "
   ]
  },
  {
   "cell_type": "markdown",
   "metadata": {},
   "source": [
    " "
   ]
  },
  {
   "cell_type": "markdown",
   "metadata": {},
   "source": [
    "After Analysing and vizualizing my data , my conclusion is that __Lake View__ is the best neighborhood to open a new Starbucks shop. My reasons are that : \n",
    "1. It is not crowded \n",
    "2. Rating scores are not very high.\n",
    "\n",
    "__Loop__ on the other side is fairly crowded. When looking to average score it is very low but observing its distribution,median and quartile scores it is not as good as __Lake View__. there is some kind of need to new better serving shop. \n",
    "\n",
    "Thirdly , __Lincoln Park__ has only 3 shops. It is definetely now crowded but average rating is 7.9 which is very high. With small amount of sampled it is hard to find a reason to open a new restaurant there. \n",
    "\n",
    "Finally, I think __Near North Side__ is worst place to operate. It is very crowded, has decent average score, median and quartiles are high. Also it is normally distributed. I think one must stay away from __Near North Side__"
   ]
  },
  {
   "cell_type": "markdown",
   "metadata": {},
   "source": [
    " "
   ]
  },
  {
   "cell_type": "markdown",
   "metadata": {},
   "source": [
    "## 4.2 : Discussion"
   ]
  },
  {
   "cell_type": "markdown",
   "metadata": {},
   "source": [
    " "
   ]
  },
  {
   "cell_type": "markdown",
   "metadata": {},
   "source": [
    "In my analysis , I used census data and Foursquare data to find crowded neighborhoods with Starbucks. But one thing I missed is that crowded is not necesseraly bad. There can be way more people living in one area and thus, Reducing per capita starbucks in final. For instance : \n",
    "\n",
    "1. X neighbırhood has 50 starbucks and 1 million population.\n",
    "2. Y meighborhood has 5 starbucks and 20 k population.\n",
    "\n",
    "At First it seems that X is overcrowded. But When we observe that per capita starbucks is equal to (to how many people one starbucks shop serve) 20k in X and only 4k in Y, it is reosanable to think X is not overcrowded. \n",
    "\n",
    "But we did not have population data in our census data and I omittied this part. \n",
    "\n",
    "Moreover, in general 2 of our neighborhoods has fewer than 6 starbucks and that is very little data to analyse properly. But again since that is all we have, I have done my analysis with that."
   ]
  },
  {
   "cell_type": "markdown",
   "metadata": {},
   "source": [
    " "
   ]
  },
  {
   "cell_type": "markdown",
   "metadata": {},
   "source": [
    " "
   ]
  },
  {
   "cell_type": "markdown",
   "metadata": {},
   "source": [
    "# 5 : Conclusion"
   ]
  },
  {
   "cell_type": "markdown",
   "metadata": {},
   "source": [
    "Purpose of this project was to identify best spot in Chicaho neighborhoods to open a new Starbucks shop. Firstly I used KMeans clusterin algorith to cluster neighborhodds in order to find best of them. Then I leveraged Foursquare to get shop detail and their ratings to analyze. Finally Using data vizualisation methods and Statistical inferences to find optimal spots to open a new Starbuck shop.\n",
    "\n",
    "Also, I discussed possible flaws in my analysis such as data scarcity and missing of population data. \n",
    "\n",
    "Final decission on optimal shop location will be made by stakeholders based on specific characteristics of neighborhoods and locations in every recommended zone, taking into consideration additional factors like shop ratings, neighborhood attractivenessi possible impact of missing data and etc."
   ]
  },
  {
   "cell_type": "markdown",
   "metadata": {},
   "source": [
    "\n",
    "  "
   ]
  },
  {
   "cell_type": "markdown",
   "metadata": {},
   "source": [
    " "
   ]
  },
  {
   "cell_type": "markdown",
   "metadata": {},
   "source": [
    "### This Notebook is created by Mustafa Abdullayev"
   ]
  }
 ],
 "metadata": {
  "kernelspec": {
   "display_name": "Python 3",
   "language": "python",
   "name": "python3"
  },
  "language_info": {
   "codemirror_mode": {
    "name": "ipython",
    "version": 3
   },
   "file_extension": ".py",
   "mimetype": "text/x-python",
   "name": "python",
   "nbconvert_exporter": "python",
   "pygments_lexer": "ipython3",
   "version": "3.7.3"
  }
 },
 "nbformat": 4,
 "nbformat_minor": 2
}
