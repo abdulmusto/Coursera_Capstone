{
 "cells": [
  {
   "cell_type": "markdown",
   "metadata": {},
   "source": [
    "### Part 1 --  _Introduction/Business Problem_"
   ]
  },
  {
   "cell_type": "markdown",
   "metadata": {},
   "source": [
    "Health is the most important thing in our lives. Due to this fact, the Fitness industry generated 30 billion USD in the USA in 2018. Every entreprenuer want to take a bite from this economy. One of the best and easiest way to participate in this is to open clean, well-staffed and modern Gym/ Fitness center. In my analysis, I will use data to find the best neighborhoods of Chicago to open a new Fitness center. This analysis targeted professional Fitness people who want to advance their situation and /or for entrepreneurs who want to make money in this huge Fitness economy."
   ]
  },
  {
   "cell_type": "code",
   "execution_count": null,
   "metadata": {},
   "outputs": [],
   "source": []
  },
  {
   "cell_type": "markdown",
   "metadata": {},
   "source": [
    "### Part 2 -- _Data_"
   ]
  },
  {
   "cell_type": "markdown",
   "metadata": {},
   "source": [
    "I will try to leverage our data to find the best spots to open the Gym/Fitness Center in Chicago Community areas. I will use 2 different types of  data : \n",
    "\n",
    "First of them is _Chicago Census Data_ which provided in this course before (I have this data locally). \n",
    "\n",
    "Secondly, in order to increase profitability, I will use _Foursquare Data_ to examine which neighborhoods are crowded and do not have an ideal business atmosphere anymore.  "
   ]
  },
  {
   "cell_type": "code",
   "execution_count": null,
   "metadata": {},
   "outputs": [],
   "source": []
  }
 ],
 "metadata": {
  "kernelspec": {
   "display_name": "Python 3",
   "language": "python",
   "name": "python3"
  },
  "language_info": {
   "codemirror_mode": {
    "name": "ipython",
    "version": 3
   },
   "file_extension": ".py",
   "mimetype": "text/x-python",
   "name": "python",
   "nbconvert_exporter": "python",
   "pygments_lexer": "ipython3",
   "version": "3.7.3"
  }
 },
 "nbformat": 4,
 "nbformat_minor": 2
}
